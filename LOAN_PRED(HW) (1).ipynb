{
  "nbformat": 4,
  "nbformat_minor": 0,
  "metadata": {
    "colab": {
      "provenance": []
    },
    "kernelspec": {
      "name": "python3",
      "display_name": "Python 3"
    },
    "language_info": {
      "name": "python"
    }
  },
  "cells": [
    {
      "cell_type": "code",
      "execution_count": null,
      "metadata": {
        "id": "atMRtBCJ-3Pz",
        "colab": {
          "base_uri": "https://localhost:8080/",
          "height": 122
        },
        "outputId": "a3c46c95-02ff-46d6-f67a-62fba7b04193"
      },
      "outputs": [
        {
          "output_type": "execute_result",
          "data": {
            "text/plain": [
              "'APPROACH TO LOAN PREDICTION \\n1.Import all the necessary libraries.\\n2.load and audit the data.\\n3.data preparation and data transfromation.\\n  1.Missing value:Impute all missing values using mean,median and mode.\\n  2.Inconsistent values: Replace all inconsistencies with consistent values \\n  3.outliers:Transform or let the algorithm deal \\n4.Data Visualization.\\n5.Data Analysis.\\n  1.Uni-variate Analysis(mean,median,mode,skewness)\\n  2.Bi-variate Analysis(Correlation,Covariance,Chi square Test)\\n  3.Multi-variate Analysis\\n      1.Regression:not a regression problem\\n      2.Classification:Since outcome variable is yes or no\\n         1.Apply Logistic regression.\\n         2.Apply Decision tree.\\n         3.Evaluate between Linear\\xa0and\\xa0logistic.'"
            ],
            "application/vnd.google.colaboratory.intrinsic+json": {
              "type": "string"
            }
          },
          "metadata": {},
          "execution_count": 1
        }
      ],
      "source": [
        "\"\"\"APPROACH TO LOAN PREDICTION \n",
        "1.Import all the necessary libraries.\n",
        "2.load and audit the data.\n",
        "3.data preparation and data transfromation.\n",
        "  1.Missing value:Impute all missing values using mean,median and mode.\n",
        "  2.Inconsistent values: Replace all inconsistencies with consistent values \n",
        "  3.outliers:Transform or let the algorithm deal \n",
        "4.Data Visualization.\n",
        "5.Data Analysis.\n",
        "  1.Uni-variate Analysis(mean,median,mode,skewness)\n",
        "  2.Bi-variate Analysis(Correlation,Covariance,Chi square Test)\n",
        "  3.Multi-variate Analysis\n",
        "      1.Regression:not a regression problem\n",
        "      2.Classification:Since outcome variable is yes or no\n",
        "         1.Apply Logistic regression.\n",
        "         2.Apply Decision tree.\n",
        "         3.Evaluate between Linear and logistic.\"\"\""
      ]
    },
    {
      "cell_type": "code",
      "source": [
        "import pandas as pd\n",
        "import numpy as np\n",
        "import matplotlib.pyplot as pyplot\n",
        "import seaborn as sns\n",
        "from sklearn.preprocessing import LabelEncoder\n",
        "from sklearn.model_selection import train_test_split\n",
        "from sklearn.tree import DecisionTreeClassifier\n",
        "from sklearn.linear_model import LogisticRegression\n",
        "from sklearn.metrics import accuracy_score,confusion_matrix,classification_report\n",
        "from scipy.stats import chi2_contingency"
      ],
      "metadata": {
        "id": "e65QwE9a_Jx_"
      },
      "execution_count": null,
      "outputs": []
    },
    {
      "cell_type": "code",
      "source": [
        "test=pd.read_csv(\"/content/test_lAUu6dG(1).csv\")"
      ],
      "metadata": {
        "id": "4KD2z0qlBOzN"
      },
      "execution_count": null,
      "outputs": []
    },
    {
      "cell_type": "code",
      "source": [
        "train=pd.read_csv(\"/content/train.csv\")"
      ],
      "metadata": {
        "id": "grDRHmPzBxpg"
      },
      "execution_count": null,
      "outputs": []
    },
    {
      "cell_type": "code",
      "source": [
        "test.info()"
      ],
      "metadata": {
        "colab": {
          "base_uri": "https://localhost:8080/"
        },
        "id": "8aiKHDNOB5dH",
        "outputId": "9d19dd1f-4e18-4910-83c7-b509a2b701b2"
      },
      "execution_count": null,
      "outputs": [
        {
          "output_type": "stream",
          "name": "stdout",
          "text": [
            "<class 'pandas.core.frame.DataFrame'>\n",
            "RangeIndex: 367 entries, 0 to 366\n",
            "Data columns (total 12 columns):\n",
            " #   Column             Non-Null Count  Dtype  \n",
            "---  ------             --------------  -----  \n",
            " 0   Loan_ID            367 non-null    object \n",
            " 1   Gender             356 non-null    object \n",
            " 2   Married            367 non-null    object \n",
            " 3   Dependents         357 non-null    object \n",
            " 4   Education          367 non-null    object \n",
            " 5   Self_Employed      344 non-null    object \n",
            " 6   ApplicantIncome    367 non-null    int64  \n",
            " 7   CoapplicantIncome  367 non-null    int64  \n",
            " 8   LoanAmount         362 non-null    float64\n",
            " 9   Loan_Amount_Term   361 non-null    float64\n",
            " 10  Credit_History     338 non-null    float64\n",
            " 11  Property_Area      367 non-null    object \n",
            "dtypes: float64(3), int64(2), object(7)\n",
            "memory usage: 34.5+ KB\n"
          ]
        }
      ]
    },
    {
      "cell_type": "code",
      "source": [
        "train.info()"
      ],
      "metadata": {
        "colab": {
          "base_uri": "https://localhost:8080/"
        },
        "id": "9VAo8MsOB9AV",
        "outputId": "90b0e820-6a1d-4254-a3ae-46821c320052"
      },
      "execution_count": null,
      "outputs": [
        {
          "output_type": "stream",
          "name": "stdout",
          "text": [
            "<class 'pandas.core.frame.DataFrame'>\n",
            "RangeIndex: 614 entries, 0 to 613\n",
            "Data columns (total 13 columns):\n",
            " #   Column             Non-Null Count  Dtype  \n",
            "---  ------             --------------  -----  \n",
            " 0   Loan_ID            614 non-null    object \n",
            " 1   Gender             601 non-null    object \n",
            " 2   Married            611 non-null    object \n",
            " 3   Dependents         599 non-null    object \n",
            " 4   Education          614 non-null    object \n",
            " 5   Self_Employed      582 non-null    object \n",
            " 6   ApplicantIncome    614 non-null    int64  \n",
            " 7   CoapplicantIncome  614 non-null    float64\n",
            " 8   LoanAmount         592 non-null    float64\n",
            " 9   Loan_Amount_Term   600 non-null    float64\n",
            " 10  Credit_History     564 non-null    float64\n",
            " 11  Property_Area      614 non-null    object \n",
            " 12  Loan_Status        614 non-null    object \n",
            "dtypes: float64(4), int64(1), object(8)\n",
            "memory usage: 62.5+ KB\n"
          ]
        }
      ]
    },
    {
      "cell_type": "code",
      "source": [
        "test.describe()"
      ],
      "metadata": {
        "colab": {
          "base_uri": "https://localhost:8080/",
          "height": 300
        },
        "id": "ZMXV7sxuCUtB",
        "outputId": "37ebaaa7-4b72-46d4-9a1d-15286f3213d5"
      },
      "execution_count": null,
      "outputs": [
        {
          "output_type": "execute_result",
          "data": {
            "text/plain": [
              "       ApplicantIncome  CoapplicantIncome  LoanAmount  Loan_Amount_Term  \\\n",
              "count       367.000000         367.000000  362.000000        361.000000   \n",
              "mean       4805.599455        1569.577657  136.132597        342.537396   \n",
              "std        4910.685399        2334.232099   61.366652         65.156643   \n",
              "min           0.000000           0.000000   28.000000          6.000000   \n",
              "25%        2864.000000           0.000000  100.250000        360.000000   \n",
              "50%        3786.000000        1025.000000  125.000000        360.000000   \n",
              "75%        5060.000000        2430.500000  158.000000        360.000000   \n",
              "max       72529.000000       24000.000000  550.000000        480.000000   \n",
              "\n",
              "       Credit_History  \n",
              "count      338.000000  \n",
              "mean         0.825444  \n",
              "std          0.380150  \n",
              "min          0.000000  \n",
              "25%          1.000000  \n",
              "50%          1.000000  \n",
              "75%          1.000000  \n",
              "max          1.000000  "
            ],
            "text/html": [
              "\n",
              "  <div id=\"df-4140337c-1160-4179-ad0e-09955fb70f89\">\n",
              "    <div class=\"colab-df-container\">\n",
              "      <div>\n",
              "<style scoped>\n",
              "    .dataframe tbody tr th:only-of-type {\n",
              "        vertical-align: middle;\n",
              "    }\n",
              "\n",
              "    .dataframe tbody tr th {\n",
              "        vertical-align: top;\n",
              "    }\n",
              "\n",
              "    .dataframe thead th {\n",
              "        text-align: right;\n",
              "    }\n",
              "</style>\n",
              "<table border=\"1\" class=\"dataframe\">\n",
              "  <thead>\n",
              "    <tr style=\"text-align: right;\">\n",
              "      <th></th>\n",
              "      <th>ApplicantIncome</th>\n",
              "      <th>CoapplicantIncome</th>\n",
              "      <th>LoanAmount</th>\n",
              "      <th>Loan_Amount_Term</th>\n",
              "      <th>Credit_History</th>\n",
              "    </tr>\n",
              "  </thead>\n",
              "  <tbody>\n",
              "    <tr>\n",
              "      <th>count</th>\n",
              "      <td>367.000000</td>\n",
              "      <td>367.000000</td>\n",
              "      <td>362.000000</td>\n",
              "      <td>361.000000</td>\n",
              "      <td>338.000000</td>\n",
              "    </tr>\n",
              "    <tr>\n",
              "      <th>mean</th>\n",
              "      <td>4805.599455</td>\n",
              "      <td>1569.577657</td>\n",
              "      <td>136.132597</td>\n",
              "      <td>342.537396</td>\n",
              "      <td>0.825444</td>\n",
              "    </tr>\n",
              "    <tr>\n",
              "      <th>std</th>\n",
              "      <td>4910.685399</td>\n",
              "      <td>2334.232099</td>\n",
              "      <td>61.366652</td>\n",
              "      <td>65.156643</td>\n",
              "      <td>0.380150</td>\n",
              "    </tr>\n",
              "    <tr>\n",
              "      <th>min</th>\n",
              "      <td>0.000000</td>\n",
              "      <td>0.000000</td>\n",
              "      <td>28.000000</td>\n",
              "      <td>6.000000</td>\n",
              "      <td>0.000000</td>\n",
              "    </tr>\n",
              "    <tr>\n",
              "      <th>25%</th>\n",
              "      <td>2864.000000</td>\n",
              "      <td>0.000000</td>\n",
              "      <td>100.250000</td>\n",
              "      <td>360.000000</td>\n",
              "      <td>1.000000</td>\n",
              "    </tr>\n",
              "    <tr>\n",
              "      <th>50%</th>\n",
              "      <td>3786.000000</td>\n",
              "      <td>1025.000000</td>\n",
              "      <td>125.000000</td>\n",
              "      <td>360.000000</td>\n",
              "      <td>1.000000</td>\n",
              "    </tr>\n",
              "    <tr>\n",
              "      <th>75%</th>\n",
              "      <td>5060.000000</td>\n",
              "      <td>2430.500000</td>\n",
              "      <td>158.000000</td>\n",
              "      <td>360.000000</td>\n",
              "      <td>1.000000</td>\n",
              "    </tr>\n",
              "    <tr>\n",
              "      <th>max</th>\n",
              "      <td>72529.000000</td>\n",
              "      <td>24000.000000</td>\n",
              "      <td>550.000000</td>\n",
              "      <td>480.000000</td>\n",
              "      <td>1.000000</td>\n",
              "    </tr>\n",
              "  </tbody>\n",
              "</table>\n",
              "</div>\n",
              "      <button class=\"colab-df-convert\" onclick=\"convertToInteractive('df-4140337c-1160-4179-ad0e-09955fb70f89')\"\n",
              "              title=\"Convert this dataframe to an interactive table.\"\n",
              "              style=\"display:none;\">\n",
              "        \n",
              "  <svg xmlns=\"http://www.w3.org/2000/svg\" height=\"24px\"viewBox=\"0 0 24 24\"\n",
              "       width=\"24px\">\n",
              "    <path d=\"M0 0h24v24H0V0z\" fill=\"none\"/>\n",
              "    <path d=\"M18.56 5.44l.94 2.06.94-2.06 2.06-.94-2.06-.94-.94-2.06-.94 2.06-2.06.94zm-11 1L8.5 8.5l.94-2.06 2.06-.94-2.06-.94L8.5 2.5l-.94 2.06-2.06.94zm10 10l.94 2.06.94-2.06 2.06-.94-2.06-.94-.94-2.06-.94 2.06-2.06.94z\"/><path d=\"M17.41 7.96l-1.37-1.37c-.4-.4-.92-.59-1.43-.59-.52 0-1.04.2-1.43.59L10.3 9.45l-7.72 7.72c-.78.78-.78 2.05 0 2.83L4 21.41c.39.39.9.59 1.41.59.51 0 1.02-.2 1.41-.59l7.78-7.78 2.81-2.81c.8-.78.8-2.07 0-2.86zM5.41 20L4 18.59l7.72-7.72 1.47 1.35L5.41 20z\"/>\n",
              "  </svg>\n",
              "      </button>\n",
              "      \n",
              "  <style>\n",
              "    .colab-df-container {\n",
              "      display:flex;\n",
              "      flex-wrap:wrap;\n",
              "      gap: 12px;\n",
              "    }\n",
              "\n",
              "    .colab-df-convert {\n",
              "      background-color: #E8F0FE;\n",
              "      border: none;\n",
              "      border-radius: 50%;\n",
              "      cursor: pointer;\n",
              "      display: none;\n",
              "      fill: #1967D2;\n",
              "      height: 32px;\n",
              "      padding: 0 0 0 0;\n",
              "      width: 32px;\n",
              "    }\n",
              "\n",
              "    .colab-df-convert:hover {\n",
              "      background-color: #E2EBFA;\n",
              "      box-shadow: 0px 1px 2px rgba(60, 64, 67, 0.3), 0px 1px 3px 1px rgba(60, 64, 67, 0.15);\n",
              "      fill: #174EA6;\n",
              "    }\n",
              "\n",
              "    [theme=dark] .colab-df-convert {\n",
              "      background-color: #3B4455;\n",
              "      fill: #D2E3FC;\n",
              "    }\n",
              "\n",
              "    [theme=dark] .colab-df-convert:hover {\n",
              "      background-color: #434B5C;\n",
              "      box-shadow: 0px 1px 3px 1px rgba(0, 0, 0, 0.15);\n",
              "      filter: drop-shadow(0px 1px 2px rgba(0, 0, 0, 0.3));\n",
              "      fill: #FFFFFF;\n",
              "    }\n",
              "  </style>\n",
              "\n",
              "      <script>\n",
              "        const buttonEl =\n",
              "          document.querySelector('#df-4140337c-1160-4179-ad0e-09955fb70f89 button.colab-df-convert');\n",
              "        buttonEl.style.display =\n",
              "          google.colab.kernel.accessAllowed ? 'block' : 'none';\n",
              "\n",
              "        async function convertToInteractive(key) {\n",
              "          const element = document.querySelector('#df-4140337c-1160-4179-ad0e-09955fb70f89');\n",
              "          const dataTable =\n",
              "            await google.colab.kernel.invokeFunction('convertToInteractive',\n",
              "                                                     [key], {});\n",
              "          if (!dataTable) return;\n",
              "\n",
              "          const docLinkHtml = 'Like what you see? Visit the ' +\n",
              "            '<a target=\"_blank\" href=https://colab.research.google.com/notebooks/data_table.ipynb>data table notebook</a>'\n",
              "            + ' to learn more about interactive tables.';\n",
              "          element.innerHTML = '';\n",
              "          dataTable['output_type'] = 'display_data';\n",
              "          await google.colab.output.renderOutput(dataTable, element);\n",
              "          const docLink = document.createElement('div');\n",
              "          docLink.innerHTML = docLinkHtml;\n",
              "          element.appendChild(docLink);\n",
              "        }\n",
              "      </script>\n",
              "    </div>\n",
              "  </div>\n",
              "  "
            ]
          },
          "metadata": {},
          "execution_count": 6
        }
      ]
    },
    {
      "cell_type": "code",
      "source": [
        "test.skew()"
      ],
      "metadata": {
        "colab": {
          "base_uri": "https://localhost:8080/"
        },
        "id": "TGQEeY83Cwi_",
        "outputId": "3cf752e4-a042-4457-b5ec-740c0b6a6330"
      },
      "execution_count": null,
      "outputs": [
        {
          "output_type": "stream",
          "name": "stderr",
          "text": [
            "<ipython-input-7-a57c8b9f9d04>:1: FutureWarning: Dropping of nuisance columns in DataFrame reductions (with 'numeric_only=None') is deprecated; in a future version this will raise TypeError.  Select only valid columns before calling the reduction.\n",
            "  test.skew()\n"
          ]
        },
        {
          "output_type": "execute_result",
          "data": {
            "text/plain": [
              "ApplicantIncome      8.441375\n",
              "CoapplicantIncome    4.257357\n",
              "LoanAmount           2.223512\n",
              "Loan_Amount_Term    -2.679318\n",
              "Credit_History      -1.722379\n",
              "dtype: float64"
            ]
          },
          "metadata": {},
          "execution_count": 7
        }
      ]
    },
    {
      "cell_type": "code",
      "source": [
        "test['Gender'].value_counts().plot(kind='bar')\n"
      ],
      "metadata": {
        "colab": {
          "base_uri": "https://localhost:8080/",
          "height": 312
        },
        "id": "zlXXxHhgDlsF",
        "outputId": "a1450aec-a02c-42ed-d75e-f3c386e511a0"
      },
      "execution_count": null,
      "outputs": [
        {
          "output_type": "execute_result",
          "data": {
            "text/plain": [
              "<Axes: >"
            ]
          },
          "metadata": {},
          "execution_count": 8
        },
        {
          "output_type": "display_data",
          "data": {
            "text/plain": [
              "<Figure size 432x288 with 1 Axes>"
            ],
            "image/png": "[encoded data removed]"
          },
          "metadata": {
            "needs_background": "light"
          }
        }
      ]
    },
    {
      "cell_type": "code",
      "source": [
        "test['Married'].value_counts().plot(kind='bar')\n"
      ],
      "metadata": {
        "colab": {
          "base_uri": "https://localhost:8080/",
          "height": 288
        },
        "id": "hujPcFZjD-Ws",
        "outputId": "62449e5c-22a2-45d3-db9e-a0dfd93d32a7"
      },
      "execution_count": null,
      "outputs": [
        {
          "output_type": "execute_result",
          "data": {
            "text/plain": [
              "<Axes: >"
            ]
          },
          "metadata": {},
          "execution_count": 9
        },
        {
          "output_type": "display_data",
          "data": {
            "text/plain": [
              "<Figure size 432x288 with 1 Axes>"
            ],
            "image/png": "[encoded data removed]"
          },
          "metadata": {
            "needs_background": "light"
          }
        }
      ]
    },
    {
      "cell_type": "code",
      "source": [
        "test['Dependents'].value_counts().plot(kind='bar')\n"
      ],
      "metadata": {
        "colab": {
          "base_uri": "https://localhost:8080/",
          "height": 287
        },
        "id": "DbL-NxIvExgl",
        "outputId": "dca262af-1a04-49ab-f6be-0c8f430878a7"
      },
      "execution_count": null,
      "outputs": [
        {
          "output_type": "execute_result",
          "data": {
            "text/plain": [
              "<Axes: >"
            ]
          },
          "metadata": {},
          "execution_count": 10
        },
        {
          "output_type": "display_data",
          "data": {
            "text/plain": [
              "<Figure size 432x288 with 1 Axes>"
            ],
            "image/png": "[encoded data removed]"
          },
          "metadata": {
            "needs_background": "light"
          }
        }
      ]
    },
    {
      "cell_type": "code",
      "source": [
        "test['Education'].value_counts().plot(kind='pie')\n"
      ],
      "metadata": {
        "colab": {
          "base_uri": "https://localhost:8080/",
          "height": 265
        },
        "id": "fTducXowFGl_",
        "outputId": "94f3f8c9-4cb4-4ba9-864d-86e5ca28f172"
      },
      "execution_count": null,
      "outputs": [
        {
          "output_type": "execute_result",
          "data": {
            "text/plain": [
              "<Axes: ylabel='Education'>"
            ]
          },
          "metadata": {},
          "execution_count": 11
        },
        {
          "output_type": "display_data",
          "data": {
            "text/plain": [
              "<Figure size 432x288 with 1 Axes>"
            ],
            "image/png": "[encoded data removed]"
          },
          "metadata": {}
        }
      ]
    },
    {
      "cell_type": "code",
      "source": [
        "test['Self_Employed'].value_counts().plot(kind='barh')\n"
      ],
      "metadata": {
        "colab": {
          "base_uri": "https://localhost:8080/",
          "height": 282
        },
        "id": "pdsr3vuyFvfX",
        "outputId": "c1b88ba7-0979-4cab-91e7-c83d391bc9e5"
      },
      "execution_count": null,
      "outputs": [
        {
          "output_type": "execute_result",
          "data": {
            "text/plain": [
              "<Axes: >"
            ]
          },
          "metadata": {},
          "execution_count": 12
        },
        {
          "output_type": "display_data",
          "data": {
            "text/plain": [
              "<Figure size 432x288 with 1 Axes>"
            ],
            "image/png": "[encoded data removed]"
          },
          "metadata": {
            "needs_background": "light"
          }
        }
      ]
    },
    {
      "cell_type": "code",
      "source": [
        "test['Property_Area'].value_counts().plot(kind='bar')\n"
      ],
      "metadata": {
        "colab": {
          "base_uri": "https://localhost:8080/",
          "height": 326
        },
        "id": "74si3NrPGNk5",
        "outputId": "e8f6116f-9201-414f-e031-3017acc0af76"
      },
      "execution_count": null,
      "outputs": [
        {
          "output_type": "execute_result",
          "data": {
            "text/plain": [
              "<Axes: >"
            ]
          },
          "metadata": {},
          "execution_count": 13
        },
        {
          "output_type": "display_data",
          "data": {
            "text/plain": [
              "<Figure size 432x288 with 1 Axes>"
            ],
            "image/png": "[encoded data removed]"
          },
          "metadata": {
            "needs_background": "light"
          }
        }
      ]
    },
    {
      "cell_type": "code",
      "source": [
        "test['Credit_History'].value_counts().plot(kind='bar')\n"
      ],
      "metadata": {
        "colab": {
          "base_uri": "https://localhost:8080/",
          "height": 288
        },
        "id": "S4buYkxOGYU-",
        "outputId": "71a65ebb-d46e-419b-d171-6acb071973bf"
      },
      "execution_count": null,
      "outputs": [
        {
          "output_type": "execute_result",
          "data": {
            "text/plain": [
              "<Axes: >"
            ]
          },
          "metadata": {},
          "execution_count": 14
        },
        {
          "output_type": "display_data",
          "data": {
            "text/plain": [
              "<Figure size 432x288 with 1 Axes>"
            ],
            "image/png": "[encoded data removed]"
          },
          "metadata": {
            "needs_background": "light"
          }
        }
      ]
    },
    {
      "cell_type": "markdown",
      "source": [
        "Data prepartion user defined function"
      ],
      "metadata": {
        "id": "oljrIQDDHOH0"
      }
    },
    {
      "cell_type": "code",
      "source": [
        "def data_prep(data):\n",
        "  data['Gender']=np.where(data['Gender'].isna(),data['Gender'].mode(dropna=True),data['Gender'])\n",
        "  data['Married']=np.where(data['Married'].isna(),data['Married'].mode(dropna=True),data['Married'])\n",
        "  data['Dependents']=np.where(data['Dependents'].isna(),data['Dependents'].mode(dropna=True),data['Dependents'])\n",
        "  data['Dependents'].replace('3+',3,inplace=True)\n",
        "  data['Dependents']=data['Dependents'].astype('int')\n",
        "\n",
        "  data['Education']=np.where(data['Education'].isna(),data['Education'].mode(dropna=True),data['Education'])\n",
        "  data['Self_Employed']=np.where(data['Self_Employed'].isna(),data['Self_Employed'].mode(dropna=True),data['Self_Employed'])\n",
        "  data['Credit_History']=np.where(data['Credit_History'].isna(),data['Credit_History'].mode(dropna=True),data['Credit_History'])\n",
        "\n",
        "  \"\"\"continuous variable data prep\"\"\"\n",
        "  for i in data.columns:\n",
        "    if data[i].dtype=='float':\n",
        "      data[i]=np.where(data[i].isna(),data[i].median(skipna=True),data[i])\n",
        "  return data\n"
      ],
      "metadata": {
        "id": "IGVVsJefHNRV"
      },
      "execution_count": null,
      "outputs": []
    },
    {
      "cell_type": "code",
      "source": [],
      "metadata": {
        "id": "hySkWRwoP_jO"
      },
      "execution_count": null,
      "outputs": []
    },
    {
      "cell_type": "code",
      "source": [
        "data_prep(test)"
      ],
      "metadata": {
        "colab": {
          "base_uri": "https://localhost:8080/",
          "height": 522
        },
        "id": "Kvx7634vN3c4",
        "outputId": "2824f8fe-aac2-4887-ca1d-55f9a90acf42"
      },
      "execution_count": null,
      "outputs": [
        {
          "output_type": "execute_result",
          "data": {
            "text/plain": [
              "      Loan_ID Gender Married  Dependents     Education Self_Employed  \\\n",
              "0    LP001015   Male     Yes           0      Graduate            No   \n",
              "1    LP001022   Male     Yes           1      Graduate            No   \n",
              "2    LP001031   Male     Yes           2      Graduate            No   \n",
              "3    LP001035   Male     Yes           2      Graduate            No   \n",
              "4    LP001051   Male      No           0  Not Graduate            No   \n",
              "..        ...    ...     ...         ...           ...           ...   \n",
              "362  LP002971   Male     Yes           3  Not Graduate           Yes   \n",
              "363  LP002975   Male     Yes           0      Graduate            No   \n",
              "364  LP002980   Male      No           0      Graduate            No   \n",
              "365  LP002986   Male     Yes           0      Graduate            No   \n",
              "366  LP002989   Male      No           0      Graduate           Yes   \n",
              "\n",
              "     ApplicantIncome  CoapplicantIncome  LoanAmount  Loan_Amount_Term  \\\n",
              "0               5720                  0       110.0             360.0   \n",
              "1               3076               1500       126.0             360.0   \n",
              "2               5000               1800       208.0             360.0   \n",
              "3               2340               2546       100.0             360.0   \n",
              "4               3276                  0        78.0             360.0   \n",
              "..               ...                ...         ...               ...   \n",
              "362             4009               1777       113.0             360.0   \n",
              "363             4158                709       115.0             360.0   \n",
              "364             3250               1993       126.0             360.0   \n",
              "365             5000               2393       158.0             360.0   \n",
              "366             9200                  0        98.0             180.0   \n",
              "\n",
              "     Credit_History Property_Area  \n",
              "0               1.0         Urban  \n",
              "1               1.0         Urban  \n",
              "2               1.0         Urban  \n",
              "3               1.0         Urban  \n",
              "4               1.0         Urban  \n",
              "..              ...           ...  \n",
              "362             1.0         Urban  \n",
              "363             1.0         Urban  \n",
              "364             1.0     Semiurban  \n",
              "365             1.0         Rural  \n",
              "366             1.0         Rural  \n",
              "\n",
              "[367 rows x 12 columns]"
            ],
            "text/html": [
              "\n",
              "  <div id=\"df-0d97808b-d064-4ba5-84f0-a0df5f0fef29\">\n",
              "    <div class=\"colab-df-container\">\n",
              "      <div>\n",
              "<style scoped>\n",
              "    .dataframe tbody tr th:only-of-type {\n",
              "        vertical-align: middle;\n",
              "    }\n",
              "\n",
              "    .dataframe tbody tr th {\n",
              "        vertical-align: top;\n",
              "    }\n",
              "\n",
              "    .dataframe thead th {\n",
              "        text-align: right;\n",
              "    }\n",
              "</style>\n",
              "<table border=\"1\" class=\"dataframe\">\n",
              "  <thead>\n",
              "    <tr style=\"text-align: right;\">\n",
              "      <th></th>\n",
              "      <th>Loan_ID</th>\n",
              "      <th>Gender</th>\n",
              "      <th>Married</th>\n",
              "      <th>Dependents</th>\n",
              "      <th>Education</th>\n",
              "      <th>Self_Employed</th>\n",
              "      <th>ApplicantIncome</th>\n",
              "      <th>CoapplicantIncome</th>\n",
              "      <th>LoanAmount</th>\n",
              "      <th>Loan_Amount_Term</th>\n",
              "      <th>Credit_History</th>\n",
              "      <th>Property_Area</th>\n",
              "    </tr>\n",
              "  </thead>\n",
              "  <tbody>\n",
              "    <tr>\n",
              "      <th>0</th>\n",
              "      <td>LP001015</td>\n",
              "      <td>Male</td>\n",
              "      <td>Yes</td>\n",
              "      <td>0</td>\n",
              "      <td>Graduate</td>\n",
              "      <td>No</td>\n",
              "      <td>5720</td>\n",
              "      <td>0</td>\n",
              "      <td>110.0</td>\n",
              "      <td>360.0</td>\n",
              "      <td>1.0</td>\n",
              "      <td>Urban</td>\n",
              "    </tr>\n",
              "    <tr>\n",
              "      <th>1</th>\n",
              "      <td>LP001022</td>\n",
              "      <td>Male</td>\n",
              "      <td>Yes</td>\n",
              "      <td>1</td>\n",
              "      <td>Graduate</td>\n",
              "      <td>No</td>\n",
              "      <td>3076</td>\n",
              "      <td>1500</td>\n",
              "      <td>126.0</td>\n",
              "      <td>360.0</td>\n",
              "      <td>1.0</td>\n",
              "      <td>Urban</td>\n",
              "    </tr>\n",
              "    <tr>\n",
              "      <th>2</th>\n",
              "      <td>LP001031</td>\n",
              "      <td>Male</td>\n",
              "      <td>Yes</td>\n",
              "      <td>2</td>\n",
              "      <td>Graduate</td>\n",
              "      <td>No</td>\n",
              "      <td>5000</td>\n",
              "      <td>1800</td>\n",
              "      <td>208.0</td>\n",
              "      <td>360.0</td>\n",
              "      <td>1.0</td>\n",
              "      <td>Urban</td>\n",
              "    </tr>\n",
              "    <tr>\n",
              "      <th>3</th>\n",
              "      <td>LP001035</td>\n",
              "      <td>Male</td>\n",
              "      <td>Yes</td>\n",
              "      <td>2</td>\n",
              "      <td>Graduate</td>\n",
              "      <td>No</td>\n",
              "      <td>2340</td>\n",
              "      <td>2546</td>\n",
              "      <td>100.0</td>\n",
              "      <td>360.0</td>\n",
              "      <td>1.0</td>\n",
              "      <td>Urban</td>\n",
              "    </tr>\n",
              "    <tr>\n",
              "      <th>4</th>\n",
              "      <td>LP001051</td>\n",
              "      <td>Male</td>\n",
              "      <td>No</td>\n",
              "      <td>0</td>\n",
              "      <td>Not Graduate</td>\n",
              "      <td>No</td>\n",
              "      <td>3276</td>\n",
              "      <td>0</td>\n",
              "      <td>78.0</td>\n",
              "      <td>360.0</td>\n",
              "      <td>1.0</td>\n",
              "      <td>Urban</td>\n",
              "    </tr>\n",
              "    <tr>\n",
              "      <th>...</th>\n",
              "      <td>...</td>\n",
              "      <td>...</td>\n",
              "      <td>...</td>\n",
              "      <td>...</td>\n",
              "      <td>...</td>\n",
              "      <td>...</td>\n",
              "      <td>...</td>\n",
              "      <td>...</td>\n",
              "      <td>...</td>\n",
              "      <td>...</td>\n",
              "      <td>...</td>\n",
              "      <td>...</td>\n",
              "    </tr>\n",
              "    <tr>\n",
              "      <th>362</th>\n",
              "      <td>LP002971</td>\n",
              "      <td>Male</td>\n",
              "      <td>Yes</td>\n",
              "      <td>3</td>\n",
              "      <td>Not Graduate</td>\n",
              "      <td>Yes</td>\n",
              "      <td>4009</td>\n",
              "      <td>1777</td>\n",
              "      <td>113.0</td>\n",
              "      <td>360.0</td>\n",
              "      <td>1.0</td>\n",
              "      <td>Urban</td>\n",
              "    </tr>\n",
              "    <tr>\n",
              "      <th>363</th>\n",
              "      <td>LP002975</td>\n",
              "      <td>Male</td>\n",
              "      <td>Yes</td>\n",
              "      <td>0</td>\n",
              "      <td>Graduate</td>\n",
              "      <td>No</td>\n",
              "      <td>4158</td>\n",
              "      <td>709</td>\n",
              "      <td>115.0</td>\n",
              "      <td>360.0</td>\n",
              "      <td>1.0</td>\n",
              "      <td>Urban</td>\n",
              "    </tr>\n",
              "    <tr>\n",
              "      <th>364</th>\n",
              "      <td>LP002980</td>\n",
              "      <td>Male</td>\n",
              "      <td>No</td>\n",
              "      <td>0</td>\n",
              "      <td>Graduate</td>\n",
              "      <td>No</td>\n",
              "      <td>3250</td>\n",
              "      <td>1993</td>\n",
              "      <td>126.0</td>\n",
              "      <td>360.0</td>\n",
              "      <td>1.0</td>\n",
              "      <td>Semiurban</td>\n",
              "    </tr>\n",
              "    <tr>\n",
              "      <th>365</th>\n",
              "      <td>LP002986</td>\n",
              "      <td>Male</td>\n",
              "      <td>Yes</td>\n",
              "      <td>0</td>\n",
              "      <td>Graduate</td>\n",
              "      <td>No</td>\n",
              "      <td>5000</td>\n",
              "      <td>2393</td>\n",
              "      <td>158.0</td>\n",
              "      <td>360.0</td>\n",
              "      <td>1.0</td>\n",
              "      <td>Rural</td>\n",
              "    </tr>\n",
              "    <tr>\n",
              "      <th>366</th>\n",
              "      <td>LP002989</td>\n",
              "      <td>Male</td>\n",
              "      <td>No</td>\n",
              "      <td>0</td>\n",
              "      <td>Graduate</td>\n",
              "      <td>Yes</td>\n",
              "      <td>9200</td>\n",
              "      <td>0</td>\n",
              "      <td>98.0</td>\n",
              "      <td>180.0</td>\n",
              "      <td>1.0</td>\n",
              "      <td>Rural</td>\n",
              "    </tr>\n",
              "  </tbody>\n",
              "</table>\n",
              "<p>367 rows × 12 columns</p>\n",
              "</div>\n",
              "      <button class=\"colab-df-convert\" onclick=\"convertToInteractive('df-0d97808b-d064-4ba5-84f0-a0df5f0fef29')\"\n",
              "              title=\"Convert this dataframe to an interactive table.\"\n",
              "              style=\"display:none;\">\n",
              "        \n",
              "  <svg xmlns=\"http://www.w3.org/2000/svg\" height=\"24px\"viewBox=\"0 0 24 24\"\n",
              "       width=\"24px\">\n",
              "    <path d=\"M0 0h24v24H0V0z\" fill=\"none\"/>\n",
              "    <path d=\"M18.56 5.44l.94 2.06.94-2.06 2.06-.94-2.06-.94-.94-2.06-.94 2.06-2.06.94zm-11 1L8.5 8.5l.94-2.06 2.06-.94-2.06-.94L8.5 2.5l-.94 2.06-2.06.94zm10 10l.94 2.06.94-2.06 2.06-.94-2.06-.94-.94-2.06-.94 2.06-2.06.94z\"/><path d=\"M17.41 7.96l-1.37-1.37c-.4-.4-.92-.59-1.43-.59-.52 0-1.04.2-1.43.59L10.3 9.45l-7.72 7.72c-.78.78-.78 2.05 0 2.83L4 21.41c.39.39.9.59 1.41.59.51 0 1.02-.2 1.41-.59l7.78-7.78 2.81-2.81c.8-.78.8-2.07 0-2.86zM5.41 20L4 18.59l7.72-7.72 1.47 1.35L5.41 20z\"/>\n",
              "  </svg>\n",
              "      </button>\n",
              "      \n",
              "  <style>\n",
              "    .colab-df-container {\n",
              "      display:flex;\n",
              "      flex-wrap:wrap;\n",
              "      gap: 12px;\n",
              "    }\n",
              "\n",
              "    .colab-df-convert {\n",
              "      background-color: #E8F0FE;\n",
              "      border: none;\n",
              "      border-radius: 50%;\n",
              "      cursor: pointer;\n",
              "      display: none;\n",
              "      fill: #1967D2;\n",
              "      height: 32px;\n",
              "      padding: 0 0 0 0;\n",
              "      width: 32px;\n",
              "    }\n",
              "\n",
              "    .colab-df-convert:hover {\n",
              "      background-color: #E2EBFA;\n",
              "      box-shadow: 0px 1px 2px rgba(60, 64, 67, 0.3), 0px 1px 3px 1px rgba(60, 64, 67, 0.15);\n",
              "      fill: #174EA6;\n",
              "    }\n",
              "\n",
              "    [theme=dark] .colab-df-convert {\n",
              "      background-color: #3B4455;\n",
              "      fill: #D2E3FC;\n",
              "    }\n",
              "\n",
              "    [theme=dark] .colab-df-convert:hover {\n",
              "      background-color: #434B5C;\n",
              "      box-shadow: 0px 1px 3px 1px rgba(0, 0, 0, 0.15);\n",
              "      filter: drop-shadow(0px 1px 2px rgba(0, 0, 0, 0.3));\n",
              "      fill: #FFFFFF;\n",
              "    }\n",
              "  </style>\n",
              "\n",
              "      <script>\n",
              "        const buttonEl =\n",
              "          document.querySelector('#df-0d97808b-d064-4ba5-84f0-a0df5f0fef29 button.colab-df-convert');\n",
              "        buttonEl.style.display =\n",
              "          google.colab.kernel.accessAllowed ? 'block' : 'none';\n",
              "\n",
              "        async function convertToInteractive(key) {\n",
              "          const element = document.querySelector('#df-0d97808b-d064-4ba5-84f0-a0df5f0fef29');\n",
              "          const dataTable =\n",
              "            await google.colab.kernel.invokeFunction('convertToInteractive',\n",
              "                                                     [key], {});\n",
              "          if (!dataTable) return;\n",
              "\n",
              "          const docLinkHtml = 'Like what you see? Visit the ' +\n",
              "            '<a target=\"_blank\" href=https://colab.research.google.com/notebooks/data_table.ipynb>data table notebook</a>'\n",
              "            + ' to learn more about interactive tables.';\n",
              "          element.innerHTML = '';\n",
              "          dataTable['output_type'] = 'display_data';\n",
              "          await google.colab.output.renderOutput(dataTable, element);\n",
              "          const docLink = document.createElement('div');\n",
              "          docLink.innerHTML = docLinkHtml;\n",
              "          element.appendChild(docLink);\n",
              "        }\n",
              "      </script>\n",
              "    </div>\n",
              "  </div>\n",
              "  "
            ]
          },
          "metadata": {},
          "execution_count": 16
        }
      ]
    },
    {
      "cell_type": "code",
      "source": [
        "test.info()"
      ],
      "metadata": {
        "colab": {
          "base_uri": "https://localhost:8080/"
        },
        "id": "T3jyC1GeN3XR",
        "outputId": "d8a586cf-6a87-4be6-99f3-d56bfdc0ab76"
      },
      "execution_count": null,
      "outputs": [
        {
          "output_type": "stream",
          "name": "stdout",
          "text": [
            "<class 'pandas.core.frame.DataFrame'>\n",
            "RangeIndex: 367 entries, 0 to 366\n",
            "Data columns (total 12 columns):\n",
            " #   Column             Non-Null Count  Dtype  \n",
            "---  ------             --------------  -----  \n",
            " 0   Loan_ID            367 non-null    object \n",
            " 1   Gender             367 non-null    object \n",
            " 2   Married            367 non-null    object \n",
            " 3   Dependents         367 non-null    int64  \n",
            " 4   Education          367 non-null    object \n",
            " 5   Self_Employed      367 non-null    object \n",
            " 6   ApplicantIncome    367 non-null    int64  \n",
            " 7   CoapplicantIncome  367 non-null    int64  \n",
            " 8   LoanAmount         367 non-null    float64\n",
            " 9   Loan_Amount_Term   367 non-null    float64\n",
            " 10  Credit_History     367 non-null    float64\n",
            " 11  Property_Area      367 non-null    object \n",
            "dtypes: float64(3), int64(3), object(6)\n",
            "memory usage: 34.5+ KB\n"
          ]
        }
      ]
    },
    {
      "cell_type": "markdown",
      "source": [
        "Drop loanid"
      ],
      "metadata": {
        "id": "ZBiYQHmiRYT7"
      }
    },
    {
      "cell_type": "code",
      "source": [
        "test.drop(['Loan_ID'],axis=1,inplace=True)"
      ],
      "metadata": {
        "id": "Vv61eUyiRhJU"
      },
      "execution_count": null,
      "outputs": []
    },
    {
      "cell_type": "markdown",
      "source": [
        "Encode the variables"
      ],
      "metadata": {
        "id": "ifzvELURTIl1"
      }
    },
    {
      "cell_type": "code",
      "source": [
        "def encode(data):\n",
        "  ls=LabelEncoder()\n",
        "  for i in data.columns:\n",
        "    if data[i].dtype=='object':\n",
        "      data[i]=ls.fit_transform(data[i])\n",
        "  return data"
      ],
      "metadata": {
        "id": "kz8NWZzKR2N4"
      },
      "execution_count": null,
      "outputs": []
    },
    {
      "cell_type": "code",
      "source": [
        "encode(test)"
      ],
      "metadata": {
        "colab": {
          "base_uri": "https://localhost:8080/",
          "height": 487
        },
        "id": "VC8wmsasUAuF",
        "outputId": "5cfe06d5-47f8-4d37-e4bd-024d68ed54e3"
      },
      "execution_count": null,
      "outputs": [
        {
          "output_type": "execute_result",
          "data": {
            "text/plain": [
              "     Gender  Married  Dependents  Education  Self_Employed  ApplicantIncome  \\\n",
              "0         1        1           0          0              0             5720   \n",
              "1         1        1           1          0              0             3076   \n",
              "2         1        1           2          0              0             5000   \n",
              "3         1        1           2          0              0             2340   \n",
              "4         1        0           0          1              0             3276   \n",
              "..      ...      ...         ...        ...            ...              ...   \n",
              "362       1        1           3          1              1             4009   \n",
              "363       1        1           0          0              0             4158   \n",
              "364       1        0           0          0              0             3250   \n",
              "365       1        1           0          0              0             5000   \n",
              "366       1        0           0          0              1             9200   \n",
              "\n",
              "     CoapplicantIncome  LoanAmount  Loan_Amount_Term  Credit_History  \\\n",
              "0                    0       110.0             360.0             1.0   \n",
              "1                 1500       126.0             360.0             1.0   \n",
              "2                 1800       208.0             360.0             1.0   \n",
              "3                 2546       100.0             360.0             1.0   \n",
              "4                    0        78.0             360.0             1.0   \n",
              "..                 ...         ...               ...             ...   \n",
              "362               1777       113.0             360.0             1.0   \n",
              "363                709       115.0             360.0             1.0   \n",
              "364               1993       126.0             360.0             1.0   \n",
              "365               2393       158.0             360.0             1.0   \n",
              "366                  0        98.0             180.0             1.0   \n",
              "\n",
              "     Property_Area  \n",
              "0                2  \n",
              "1                2  \n",
              "2                2  \n",
              "3                2  \n",
              "4                2  \n",
              "..             ...  \n",
              "362              2  \n",
              "363              2  \n",
              "364              1  \n",
              "365              0  \n",
              "366              0  \n",
              "\n",
              "[367 rows x 11 columns]"
            ],
            "text/html": [
              "\n",
              "  <div id=\"df-3602e801-de9f-48af-8c1f-54eee2135c15\">\n",
              "    <div class=\"colab-df-container\">\n",
              "      <div>\n",
              "<style scoped>\n",
              "    .dataframe tbody tr th:only-of-type {\n",
              "        vertical-align: middle;\n",
              "    }\n",
              "\n",
              "    .dataframe tbody tr th {\n",
              "        vertical-align: top;\n",
              "    }\n",
              "\n",
              "    .dataframe thead th {\n",
              "        text-align: right;\n",
              "    }\n",
              "</style>\n",
              "<table border=\"1\" class=\"dataframe\">\n",
              "  <thead>\n",
              "    <tr style=\"text-align: right;\">\n",
              "      <th></th>\n",
              "      <th>Gender</th>\n",
              "      <th>Married</th>\n",
              "      <th>Dependents</th>\n",
              "      <th>Education</th>\n",
              "      <th>Self_Employed</th>\n",
              "      <th>ApplicantIncome</th>\n",
              "      <th>CoapplicantIncome</th>\n",
              "      <th>LoanAmount</th>\n",
              "      <th>Loan_Amount_Term</th>\n",
              "      <th>Credit_History</th>\n",
              "      <th>Property_Area</th>\n",
              "    </tr>\n",
              "  </thead>\n",
              "  <tbody>\n",
              "    <tr>\n",
              "      <th>0</th>\n",
              "      <td>1</td>\n",
              "      <td>1</td>\n",
              "      <td>0</td>\n",
              "      <td>0</td>\n",
              "      <td>0</td>\n",
              "      <td>5720</td>\n",
              "      <td>0</td>\n",
              "      <td>110.0</td>\n",
              "      <td>360.0</td>\n",
              "      <td>1.0</td>\n",
              "      <td>2</td>\n",
              "    </tr>\n",
              "    <tr>\n",
              "      <th>1</th>\n",
              "      <td>1</td>\n",
              "      <td>1</td>\n",
              "      <td>1</td>\n",
              "      <td>0</td>\n",
              "      <td>0</td>\n",
              "      <td>3076</td>\n",
              "      <td>1500</td>\n",
              "      <td>126.0</td>\n",
              "      <td>360.0</td>\n",
              "      <td>1.0</td>\n",
              "      <td>2</td>\n",
              "    </tr>\n",
              "    <tr>\n",
              "      <th>2</th>\n",
              "      <td>1</td>\n",
              "      <td>1</td>\n",
              "      <td>2</td>\n",
              "      <td>0</td>\n",
              "      <td>0</td>\n",
              "      <td>5000</td>\n",
              "      <td>1800</td>\n",
              "      <td>208.0</td>\n",
              "      <td>360.0</td>\n",
              "      <td>1.0</td>\n",
              "      <td>2</td>\n",
              "    </tr>\n",
              "    <tr>\n",
              "      <th>3</th>\n",
              "      <td>1</td>\n",
              "      <td>1</td>\n",
              "      <td>2</td>\n",
              "      <td>0</td>\n",
              "      <td>0</td>\n",
              "      <td>2340</td>\n",
              "      <td>2546</td>\n",
              "      <td>100.0</td>\n",
              "      <td>360.0</td>\n",
              "      <td>1.0</td>\n",
              "      <td>2</td>\n",
              "    </tr>\n",
              "    <tr>\n",
              "      <th>4</th>\n",
              "      <td>1</td>\n",
              "      <td>0</td>\n",
              "      <td>0</td>\n",
              "      <td>1</td>\n",
              "      <td>0</td>\n",
              "      <td>3276</td>\n",
              "      <td>0</td>\n",
              "      <td>78.0</td>\n",
              "      <td>360.0</td>\n",
              "      <td>1.0</td>\n",
              "      <td>2</td>\n",
              "    </tr>\n",
              "    <tr>\n",
              "      <th>...</th>\n",
              "      <td>...</td>\n",
              "      <td>...</td>\n",
              "      <td>...</td>\n",
              "      <td>...</td>\n",
              "      <td>...</td>\n",
              "      <td>...</td>\n",
              "      <td>...</td>\n",
              "      <td>...</td>\n",
              "      <td>...</td>\n",
              "      <td>...</td>\n",
              "      <td>...</td>\n",
              "    </tr>\n",
              "    <tr>\n",
              "      <th>362</th>\n",
              "      <td>1</td>\n",
              "      <td>1</td>\n",
              "      <td>3</td>\n",
              "      <td>1</td>\n",
              "      <td>1</td>\n",
              "      <td>4009</td>\n",
              "      <td>1777</td>\n",
              "      <td>113.0</td>\n",
              "      <td>360.0</td>\n",
              "      <td>1.0</td>\n",
              "      <td>2</td>\n",
              "    </tr>\n",
              "    <tr>\n",
              "      <th>363</th>\n",
              "      <td>1</td>\n",
              "      <td>1</td>\n",
              "      <td>0</td>\n",
              "      <td>0</td>\n",
              "      <td>0</td>\n",
              "      <td>4158</td>\n",
              "      <td>709</td>\n",
              "      <td>115.0</td>\n",
              "      <td>360.0</td>\n",
              "      <td>1.0</td>\n",
              "      <td>2</td>\n",
              "    </tr>\n",
              "    <tr>\n",
              "      <th>364</th>\n",
              "      <td>1</td>\n",
              "      <td>0</td>\n",
              "      <td>0</td>\n",
              "      <td>0</td>\n",
              "      <td>0</td>\n",
              "      <td>3250</td>\n",
              "      <td>1993</td>\n",
              "      <td>126.0</td>\n",
              "      <td>360.0</td>\n",
              "      <td>1.0</td>\n",
              "      <td>1</td>\n",
              "    </tr>\n",
              "    <tr>\n",
              "      <th>365</th>\n",
              "      <td>1</td>\n",
              "      <td>1</td>\n",
              "      <td>0</td>\n",
              "      <td>0</td>\n",
              "      <td>0</td>\n",
              "      <td>5000</td>\n",
              "      <td>2393</td>\n",
              "      <td>158.0</td>\n",
              "      <td>360.0</td>\n",
              "      <td>1.0</td>\n",
              "      <td>0</td>\n",
              "    </tr>\n",
              "    <tr>\n",
              "      <th>366</th>\n",
              "      <td>1</td>\n",
              "      <td>0</td>\n",
              "      <td>0</td>\n",
              "      <td>0</td>\n",
              "      <td>1</td>\n",
              "      <td>9200</td>\n",
              "      <td>0</td>\n",
              "      <td>98.0</td>\n",
              "      <td>180.0</td>\n",
              "      <td>1.0</td>\n",
              "      <td>0</td>\n",
              "    </tr>\n",
              "  </tbody>\n",
              "</table>\n",
              "<p>367 rows × 11 columns</p>\n",
              "</div>\n",
              "      <button class=\"colab-df-convert\" onclick=\"convertToInteractive('df-3602e801-de9f-48af-8c1f-54eee2135c15')\"\n",
              "              title=\"Convert this dataframe to an interactive table.\"\n",
              "              style=\"display:none;\">\n",
              "        \n",
              "  <svg xmlns=\"http://www.w3.org/2000/svg\" height=\"24px\"viewBox=\"0 0 24 24\"\n",
              "       width=\"24px\">\n",
              "    <path d=\"M0 0h24v24H0V0z\" fill=\"none\"/>\n",
              "    <path d=\"M18.56 5.44l.94 2.06.94-2.06 2.06-.94-2.06-.94-.94-2.06-.94 2.06-2.06.94zm-11 1L8.5 8.5l.94-2.06 2.06-.94-2.06-.94L8.5 2.5l-.94 2.06-2.06.94zm10 10l.94 2.06.94-2.06 2.06-.94-2.06-.94-.94-2.06-.94 2.06-2.06.94z\"/><path d=\"M17.41 7.96l-1.37-1.37c-.4-.4-.92-.59-1.43-.59-.52 0-1.04.2-1.43.59L10.3 9.45l-7.72 7.72c-.78.78-.78 2.05 0 2.83L4 21.41c.39.39.9.59 1.41.59.51 0 1.02-.2 1.41-.59l7.78-7.78 2.81-2.81c.8-.78.8-2.07 0-2.86zM5.41 20L4 18.59l7.72-7.72 1.47 1.35L5.41 20z\"/>\n",
              "  </svg>\n",
              "      </button>\n",
              "      \n",
              "  <style>\n",
              "    .colab-df-container {\n",
              "      display:flex;\n",
              "      flex-wrap:wrap;\n",
              "      gap: 12px;\n",
              "    }\n",
              "\n",
              "    .colab-df-convert {\n",
              "      background-color: #E8F0FE;\n",
              "      border: none;\n",
              "      border-radius: 50%;\n",
              "      cursor: pointer;\n",
              "      display: none;\n",
              "      fill: #1967D2;\n",
              "      height: 32px;\n",
              "      padding: 0 0 0 0;\n",
              "      width: 32px;\n",
              "    }\n",
              "\n",
              "    .colab-df-convert:hover {\n",
              "      background-color: #E2EBFA;\n",
              "      box-shadow: 0px 1px 2px rgba(60, 64, 67, 0.3), 0px 1px 3px 1px rgba(60, 64, 67, 0.15);\n",
              "      fill: #174EA6;\n",
              "    }\n",
              "\n",
              "    [theme=dark] .colab-df-convert {\n",
              "      background-color: #3B4455;\n",
              "      fill: #D2E3FC;\n",
              "    }\n",
              "\n",
              "    [theme=dark] .colab-df-convert:hover {\n",
              "      background-color: #434B5C;\n",
              "      box-shadow: 0px 1px 3px 1px rgba(0, 0, 0, 0.15);\n",
              "      filter: drop-shadow(0px 1px 2px rgba(0, 0, 0, 0.3));\n",
              "      fill: #FFFFFF;\n",
              "    }\n",
              "  </style>\n",
              "\n",
              "      <script>\n",
              "        const buttonEl =\n",
              "          document.querySelector('#df-3602e801-de9f-48af-8c1f-54eee2135c15 button.colab-df-convert');\n",
              "        buttonEl.style.display =\n",
              "          google.colab.kernel.accessAllowed ? 'block' : 'none';\n",
              "\n",
              "        async function convertToInteractive(key) {\n",
              "          const element = document.querySelector('#df-3602e801-de9f-48af-8c1f-54eee2135c15');\n",
              "          const dataTable =\n",
              "            await google.colab.kernel.invokeFunction('convertToInteractive',\n",
              "                                                     [key], {});\n",
              "          if (!dataTable) return;\n",
              "\n",
              "          const docLinkHtml = 'Like what you see? Visit the ' +\n",
              "            '<a target=\"_blank\" href=https://colab.research.google.com/notebooks/data_table.ipynb>data table notebook</a>'\n",
              "            + ' to learn more about interactive tables.';\n",
              "          element.innerHTML = '';\n",
              "          dataTable['output_type'] = 'display_data';\n",
              "          await google.colab.output.renderOutput(dataTable, element);\n",
              "          const docLink = document.createElement('div');\n",
              "          docLink.innerHTML = docLinkHtml;\n",
              "          element.appendChild(docLink);\n",
              "        }\n",
              "      </script>\n",
              "    </div>\n",
              "  </div>\n",
              "  "
            ]
          },
          "metadata": {},
          "execution_count": 20
        }
      ]
    },
    {
      "cell_type": "code",
      "source": [
        "test.info()"
      ],
      "metadata": {
        "colab": {
          "base_uri": "https://localhost:8080/"
        },
        "id": "qgkOsAEFUdVG",
        "outputId": "ee8a60e8-8b44-478c-98cf-a9ab2a04c320"
      },
      "execution_count": null,
      "outputs": [
        {
          "output_type": "stream",
          "name": "stdout",
          "text": [
            "<class 'pandas.core.frame.DataFrame'>\n",
            "RangeIndex: 367 entries, 0 to 366\n",
            "Data columns (total 11 columns):\n",
            " #   Column             Non-Null Count  Dtype  \n",
            "---  ------             --------------  -----  \n",
            " 0   Gender             367 non-null    int64  \n",
            " 1   Married            367 non-null    int64  \n",
            " 2   Dependents         367 non-null    int64  \n",
            " 3   Education          367 non-null    int64  \n",
            " 4   Self_Employed      367 non-null    int64  \n",
            " 5   ApplicantIncome    367 non-null    int64  \n",
            " 6   CoapplicantIncome  367 non-null    int64  \n",
            " 7   LoanAmount         367 non-null    float64\n",
            " 8   Loan_Amount_Term   367 non-null    float64\n",
            " 9   Credit_History     367 non-null    float64\n",
            " 10  Property_Area      367 non-null    int64  \n",
            "dtypes: float64(3), int64(8)\n",
            "memory usage: 31.7 KB\n"
          ]
        }
      ]
    },
    {
      "cell_type": "markdown",
      "source": [],
      "metadata": {
        "id": "bEcBZ6Q-RILL"
      }
    },
    {
      "cell_type": "code",
      "source": [
        "sns.heatmap(test.corr())"
      ],
      "metadata": {
        "colab": {
          "base_uri": "https://localhost:8080/",
          "height": 373
        },
        "id": "sexISxeNaJlH",
        "outputId": "cd072d45-376a-4940-b95a-f2b60fe766a6"
      },
      "execution_count": null,
      "outputs": [
        {
          "output_type": "execute_result",
          "data": {
            "text/plain": [
              "<Axes: >"
            ]
          },
          "metadata": {},
          "execution_count": 22
        },
        {
          "output_type": "display_data",
          "data": {
            "text/plain": [
              "<Figure size 432x288 with 2 Axes>"
            ],
            "image/png": "[encoded data removed]"
          },
          "metadata": {
            "needs_background": "light"
          }
        }
      ]
    },
    {
      "cell_type": "markdown",
      "source": [],
      "metadata": {
        "id": "0bvTfTvfcqXR"
      }
    },
    {
      "cell_type": "code",
      "source": [
        "from scipy.stats import chi2_contingency\n",
        "def chi_sq(var1,var2):\n",
        "  table=pd.crosstab(var1,var2)\n",
        "  _,P,_,_=chi2_contingency(table)\n",
        "  if P<=0.05:\n",
        "    print(\"Accept the alternate hypothesis\",round(P,2))\n",
        "  else:\n",
        "    print(\"Failed to reject the null hypothesis\",round(P,2))\n",
        "  return table"
      ],
      "metadata": {
        "id": "kpIbPvXYco9l"
      },
      "execution_count": null,
      "outputs": []
    },
    {
      "cell_type": "markdown",
      "source": [
        "\n",
        "\n",
        "\n",
        "\n",
        "*   Null Hypothesis:Gender and Credit history are independent\n",
        "*   Alternate Hypothesis:Gender and Credit history are dependent\n",
        "\n"
      ],
      "metadata": {
        "id": "bawD2fL-eQmR"
      }
    },
    {
      "cell_type": "code",
      "source": [
        "from scipy.stats import chi2_contingency\n",
        "chi_sq(test['Gender'],test['Credit_History'])"
      ],
      "metadata": {
        "colab": {
          "base_uri": "https://localhost:8080/",
          "height": 160
        },
        "id": "ceTIJil7c15o",
        "outputId": "bef483bc-2fb4-4c8b-b921-85c85b982e22"
      },
      "execution_count": null,
      "outputs": [
        {
          "output_type": "stream",
          "name": "stdout",
          "text": [
            "Failed to reject the null hypothesis 0.65\n"
          ]
        },
        {
          "output_type": "execute_result",
          "data": {
            "text/plain": [
              "Credit_History  0.0  1.0\n",
              "Gender                  \n",
              "0                13   57\n",
              "1                46  251"
            ],
            "text/html": [
              "\n",
              "  <div id=\"df-b10fe69a-84c4-4b1d-a45e-c2cd70f99572\">\n",
              "    <div class=\"colab-df-container\">\n",
              "      <div>\n",
              "<style scoped>\n",
              "    .dataframe tbody tr th:only-of-type {\n",
              "        vertical-align: middle;\n",
              "    }\n",
              "\n",
              "    .dataframe tbody tr th {\n",
              "        vertical-align: top;\n",
              "    }\n",
              "\n",
              "    .dataframe thead th {\n",
              "        text-align: right;\n",
              "    }\n",
              "</style>\n",
              "<table border=\"1\" class=\"dataframe\">\n",
              "  <thead>\n",
              "    <tr style=\"text-align: right;\">\n",
              "      <th>Credit_History</th>\n",
              "      <th>0.0</th>\n",
              "      <th>1.0</th>\n",
              "    </tr>\n",
              "    <tr>\n",
              "      <th>Gender</th>\n",
              "      <th></th>\n",
              "      <th></th>\n",
              "    </tr>\n",
              "  </thead>\n",
              "  <tbody>\n",
              "    <tr>\n",
              "      <th>0</th>\n",
              "      <td>13</td>\n",
              "      <td>57</td>\n",
              "    </tr>\n",
              "    <tr>\n",
              "      <th>1</th>\n",
              "      <td>46</td>\n",
              "      <td>251</td>\n",
              "    </tr>\n",
              "  </tbody>\n",
              "</table>\n",
              "</div>\n",
              "      <button class=\"colab-df-convert\" onclick=\"convertToInteractive('df-b10fe69a-84c4-4b1d-a45e-c2cd70f99572')\"\n",
              "              title=\"Convert this dataframe to an interactive table.\"\n",
              "              style=\"display:none;\">\n",
              "        \n",
              "  <svg xmlns=\"http://www.w3.org/2000/svg\" height=\"24px\"viewBox=\"0 0 24 24\"\n",
              "       width=\"24px\">\n",
              "    <path d=\"M0 0h24v24H0V0z\" fill=\"none\"/>\n",
              "    <path d=\"M18.56 5.44l.94 2.06.94-2.06 2.06-.94-2.06-.94-.94-2.06-.94 2.06-2.06.94zm-11 1L8.5 8.5l.94-2.06 2.06-.94-2.06-.94L8.5 2.5l-.94 2.06-2.06.94zm10 10l.94 2.06.94-2.06 2.06-.94-2.06-.94-.94-2.06-.94 2.06-2.06.94z\"/><path d=\"M17.41 7.96l-1.37-1.37c-.4-.4-.92-.59-1.43-.59-.52 0-1.04.2-1.43.59L10.3 9.45l-7.72 7.72c-.78.78-.78 2.05 0 2.83L4 21.41c.39.39.9.59 1.41.59.51 0 1.02-.2 1.41-.59l7.78-7.78 2.81-2.81c.8-.78.8-2.07 0-2.86zM5.41 20L4 18.59l7.72-7.72 1.47 1.35L5.41 20z\"/>\n",
              "  </svg>\n",
              "      </button>\n",
              "      \n",
              "  <style>\n",
              "    .colab-df-container {\n",
              "      display:flex;\n",
              "      flex-wrap:wrap;\n",
              "      gap: 12px;\n",
              "    }\n",
              "\n",
              "    .colab-df-convert {\n",
              "      background-color: #E8F0FE;\n",
              "      border: none;\n",
              "      border-radius: 50%;\n",
              "      cursor: pointer;\n",
              "      display: none;\n",
              "      fill: #1967D2;\n",
              "      height: 32px;\n",
              "      padding: 0 0 0 0;\n",
              "      width: 32px;\n",
              "    }\n",
              "\n",
              "    .colab-df-convert:hover {\n",
              "      background-color: #E2EBFA;\n",
              "      box-shadow: 0px 1px 2px rgba(60, 64, 67, 0.3), 0px 1px 3px 1px rgba(60, 64, 67, 0.15);\n",
              "      fill: #174EA6;\n",
              "    }\n",
              "\n",
              "    [theme=dark] .colab-df-convert {\n",
              "      background-color: #3B4455;\n",
              "      fill: #D2E3FC;\n",
              "    }\n",
              "\n",
              "    [theme=dark] .colab-df-convert:hover {\n",
              "      background-color: #434B5C;\n",
              "      box-shadow: 0px 1px 3px 1px rgba(0, 0, 0, 0.15);\n",
              "      filter: drop-shadow(0px 1px 2px rgba(0, 0, 0, 0.3));\n",
              "      fill: #FFFFFF;\n",
              "    }\n",
              "  </style>\n",
              "\n",
              "      <script>\n",
              "        const buttonEl =\n",
              "          document.querySelector('#df-b10fe69a-84c4-4b1d-a45e-c2cd70f99572 button.colab-df-convert');\n",
              "        buttonEl.style.display =\n",
              "          google.colab.kernel.accessAllowed ? 'block' : 'none';\n",
              "\n",
              "        async function convertToInteractive(key) {\n",
              "          const element = document.querySelector('#df-b10fe69a-84c4-4b1d-a45e-c2cd70f99572');\n",
              "          const dataTable =\n",
              "            await google.colab.kernel.invokeFunction('convertToInteractive',\n",
              "                                                     [key], {});\n",
              "          if (!dataTable) return;\n",
              "\n",
              "          const docLinkHtml = 'Like what you see? Visit the ' +\n",
              "            '<a target=\"_blank\" href=https://colab.research.google.com/notebooks/data_table.ipynb>data table notebook</a>'\n",
              "            + ' to learn more about interactive tables.';\n",
              "          element.innerHTML = '';\n",
              "          dataTable['output_type'] = 'display_data';\n",
              "          await google.colab.output.renderOutput(dataTable, element);\n",
              "          const docLink = document.createElement('div');\n",
              "          docLink.innerHTML = docLinkHtml;\n",
              "          element.appendChild(docLink);\n",
              "        }\n",
              "      </script>\n",
              "    </div>\n",
              "  </div>\n",
              "  "
            ]
          },
          "metadata": {},
          "execution_count": 24
        }
      ]
    },
    {
      "cell_type": "markdown",
      "source": [
        "\n",
        "*   Null Hypothesis:Gender and Married are independent\n",
        "*   Alternate Hypothesis:Gender and Married are dependent"
      ],
      "metadata": {
        "id": "DyvJEhDYoPBY"
      }
    },
    {
      "cell_type": "code",
      "source": [
        "from scipy.stats import chi2_contingency\n",
        "chi_sq(test['Gender'],test['Married'])"
      ],
      "metadata": {
        "id": "u0gqEd-_oeRJ",
        "outputId": "d896c009-1269-4154-a572-e97551ee03fd",
        "colab": {
          "base_uri": "https://localhost:8080/",
          "height": 160
        }
      },
      "execution_count": null,
      "outputs": [
        {
          "output_type": "stream",
          "name": "stdout",
          "text": [
            "Accept the alternate hypothesis 0.0\n"
          ]
        },
        {
          "output_type": "execute_result",
          "data": {
            "text/plain": [
              "Married   0    1\n",
              "Gender          \n",
              "0        44   26\n",
              "1        90  207"
            ],
            "text/html": [
              "\n",
              "  <div id=\"df-d0a891cc-d337-42ea-ad04-7eeeeb68c150\">\n",
              "    <div class=\"colab-df-container\">\n",
              "      <div>\n",
              "<style scoped>\n",
              "    .dataframe tbody tr th:only-of-type {\n",
              "        vertical-align: middle;\n",
              "    }\n",
              "\n",
              "    .dataframe tbody tr th {\n",
              "        vertical-align: top;\n",
              "    }\n",
              "\n",
              "    .dataframe thead th {\n",
              "        text-align: right;\n",
              "    }\n",
              "</style>\n",
              "<table border=\"1\" class=\"dataframe\">\n",
              "  <thead>\n",
              "    <tr style=\"text-align: right;\">\n",
              "      <th>Married</th>\n",
              "      <th>0</th>\n",
              "      <th>1</th>\n",
              "    </tr>\n",
              "    <tr>\n",
              "      <th>Gender</th>\n",
              "      <th></th>\n",
              "      <th></th>\n",
              "    </tr>\n",
              "  </thead>\n",
              "  <tbody>\n",
              "    <tr>\n",
              "      <th>0</th>\n",
              "      <td>44</td>\n",
              "      <td>26</td>\n",
              "    </tr>\n",
              "    <tr>\n",
              "      <th>1</th>\n",
              "      <td>90</td>\n",
              "      <td>207</td>\n",
              "    </tr>\n",
              "  </tbody>\n",
              "</table>\n",
              "</div>\n",
              "      <button class=\"colab-df-convert\" onclick=\"convertToInteractive('df-d0a891cc-d337-42ea-ad04-7eeeeb68c150')\"\n",
              "              title=\"Convert this dataframe to an interactive table.\"\n",
              "              style=\"display:none;\">\n",
              "        \n",
              "  <svg xmlns=\"http://www.w3.org/2000/svg\" height=\"24px\"viewBox=\"0 0 24 24\"\n",
              "       width=\"24px\">\n",
              "    <path d=\"M0 0h24v24H0V0z\" fill=\"none\"/>\n",
              "    <path d=\"M18.56 5.44l.94 2.06.94-2.06 2.06-.94-2.06-.94-.94-2.06-.94 2.06-2.06.94zm-11 1L8.5 8.5l.94-2.06 2.06-.94-2.06-.94L8.5 2.5l-.94 2.06-2.06.94zm10 10l.94 2.06.94-2.06 2.06-.94-2.06-.94-.94-2.06-.94 2.06-2.06.94z\"/><path d=\"M17.41 7.96l-1.37-1.37c-.4-.4-.92-.59-1.43-.59-.52 0-1.04.2-1.43.59L10.3 9.45l-7.72 7.72c-.78.78-.78 2.05 0 2.83L4 21.41c.39.39.9.59 1.41.59.51 0 1.02-.2 1.41-.59l7.78-7.78 2.81-2.81c.8-.78.8-2.07 0-2.86zM5.41 20L4 18.59l7.72-7.72 1.47 1.35L5.41 20z\"/>\n",
              "  </svg>\n",
              "      </button>\n",
              "      \n",
              "  <style>\n",
              "    .colab-df-container {\n",
              "      display:flex;\n",
              "      flex-wrap:wrap;\n",
              "      gap: 12px;\n",
              "    }\n",
              "\n",
              "    .colab-df-convert {\n",
              "      background-color: #E8F0FE;\n",
              "      border: none;\n",
              "      border-radius: 50%;\n",
              "      cursor: pointer;\n",
              "      display: none;\n",
              "      fill: #1967D2;\n",
              "      height: 32px;\n",
              "      padding: 0 0 0 0;\n",
              "      width: 32px;\n",
              "    }\n",
              "\n",
              "    .colab-df-convert:hover {\n",
              "      background-color: #E2EBFA;\n",
              "      box-shadow: 0px 1px 2px rgba(60, 64, 67, 0.3), 0px 1px 3px 1px rgba(60, 64, 67, 0.15);\n",
              "      fill: #174EA6;\n",
              "    }\n",
              "\n",
              "    [theme=dark] .colab-df-convert {\n",
              "      background-color: #3B4455;\n",
              "      fill: #D2E3FC;\n",
              "    }\n",
              "\n",
              "    [theme=dark] .colab-df-convert:hover {\n",
              "      background-color: #434B5C;\n",
              "      box-shadow: 0px 1px 3px 1px rgba(0, 0, 0, 0.15);\n",
              "      filter: drop-shadow(0px 1px 2px rgba(0, 0, 0, 0.3));\n",
              "      fill: #FFFFFF;\n",
              "    }\n",
              "  </style>\n",
              "\n",
              "      <script>\n",
              "        const buttonEl =\n",
              "          document.querySelector('#df-d0a891cc-d337-42ea-ad04-7eeeeb68c150 button.colab-df-convert');\n",
              "        buttonEl.style.display =\n",
              "          google.colab.kernel.accessAllowed ? 'block' : 'none';\n",
              "\n",
              "        async function convertToInteractive(key) {\n",
              "          const element = document.querySelector('#df-d0a891cc-d337-42ea-ad04-7eeeeb68c150');\n",
              "          const dataTable =\n",
              "            await google.colab.kernel.invokeFunction('convertToInteractive',\n",
              "                                                     [key], {});\n",
              "          if (!dataTable) return;\n",
              "\n",
              "          const docLinkHtml = 'Like what you see? Visit the ' +\n",
              "            '<a target=\"_blank\" href=https://colab.research.google.com/notebooks/data_table.ipynb>data table notebook</a>'\n",
              "            + ' to learn more about interactive tables.';\n",
              "          element.innerHTML = '';\n",
              "          dataTable['output_type'] = 'display_data';\n",
              "          await google.colab.output.renderOutput(dataTable, element);\n",
              "          const docLink = document.createElement('div');\n",
              "          docLink.innerHTML = docLinkHtml;\n",
              "          element.appendChild(docLink);\n",
              "        }\n",
              "      </script>\n",
              "    </div>\n",
              "  </div>\n",
              "  "
            ]
          },
          "metadata": {},
          "execution_count": 25
        }
      ]
    },
    {
      "cell_type": "markdown",
      "source": [
        "\n",
        "*   Null Hypothesis:Gender and Dependents are independent\n",
        "*   Alternate Hypothesis:Gender and Dependents are dependent"
      ],
      "metadata": {
        "id": "5wrN29Q9pn4e"
      }
    },
    {
      "cell_type": "code",
      "source": [
        "from scipy.stats import chi2_contingency\n",
        "chi_sq(test['Gender'],test['Dependents'])"
      ],
      "metadata": {
        "id": "W4tyTozbpxHc",
        "outputId": "1d5c4c94-13b6-4e5a-de5f-2e45fc2c5fe5",
        "colab": {
          "base_uri": "https://localhost:8080/",
          "height": 160
        }
      },
      "execution_count": null,
      "outputs": [
        {
          "output_type": "stream",
          "name": "stdout",
          "text": [
            "Failed to reject the null hypothesis 0.2\n"
          ]
        },
        {
          "output_type": "execute_result",
          "data": {
            "text/plain": [
              "Dependents    0   1   2   3\n",
              "Gender                     \n",
              "0            45  13   6   6\n",
              "1           165  45  53  34"
            ],
            "text/html": [
              "\n",
              "  <div id=\"df-311db585-19d0-48c4-a6be-7bdfd1fb9abb\">\n",
              "    <div class=\"colab-df-container\">\n",
              "      <div>\n",
              "<style scoped>\n",
              "    .dataframe tbody tr th:only-of-type {\n",
              "        vertical-align: middle;\n",
              "    }\n",
              "\n",
              "    .dataframe tbody tr th {\n",
              "        vertical-align: top;\n",
              "    }\n",
              "\n",
              "    .dataframe thead th {\n",
              "        text-align: right;\n",
              "    }\n",
              "</style>\n",
              "<table border=\"1\" class=\"dataframe\">\n",
              "  <thead>\n",
              "    <tr style=\"text-align: right;\">\n",
              "      <th>Dependents</th>\n",
              "      <th>0</th>\n",
              "      <th>1</th>\n",
              "      <th>2</th>\n",
              "      <th>3</th>\n",
              "    </tr>\n",
              "    <tr>\n",
              "      <th>Gender</th>\n",
              "      <th></th>\n",
              "      <th></th>\n",
              "      <th></th>\n",
              "      <th></th>\n",
              "    </tr>\n",
              "  </thead>\n",
              "  <tbody>\n",
              "    <tr>\n",
              "      <th>0</th>\n",
              "      <td>45</td>\n",
              "      <td>13</td>\n",
              "      <td>6</td>\n",
              "      <td>6</td>\n",
              "    </tr>\n",
              "    <tr>\n",
              "      <th>1</th>\n",
              "      <td>165</td>\n",
              "      <td>45</td>\n",
              "      <td>53</td>\n",
              "      <td>34</td>\n",
              "    </tr>\n",
              "  </tbody>\n",
              "</table>\n",
              "</div>\n",
              "      <button class=\"colab-df-convert\" onclick=\"convertToInteractive('df-311db585-19d0-48c4-a6be-7bdfd1fb9abb')\"\n",
              "              title=\"Convert this dataframe to an interactive table.\"\n",
              "              style=\"display:none;\">\n",
              "        \n",
              "  <svg xmlns=\"http://www.w3.org/2000/svg\" height=\"24px\"viewBox=\"0 0 24 24\"\n",
              "       width=\"24px\">\n",
              "    <path d=\"M0 0h24v24H0V0z\" fill=\"none\"/>\n",
              "    <path d=\"M18.56 5.44l.94 2.06.94-2.06 2.06-.94-2.06-.94-.94-2.06-.94 2.06-2.06.94zm-11 1L8.5 8.5l.94-2.06 2.06-.94-2.06-.94L8.5 2.5l-.94 2.06-2.06.94zm10 10l.94 2.06.94-2.06 2.06-.94-2.06-.94-.94-2.06-.94 2.06-2.06.94z\"/><path d=\"M17.41 7.96l-1.37-1.37c-.4-.4-.92-.59-1.43-.59-.52 0-1.04.2-1.43.59L10.3 9.45l-7.72 7.72c-.78.78-.78 2.05 0 2.83L4 21.41c.39.39.9.59 1.41.59.51 0 1.02-.2 1.41-.59l7.78-7.78 2.81-2.81c.8-.78.8-2.07 0-2.86zM5.41 20L4 18.59l7.72-7.72 1.47 1.35L5.41 20z\"/>\n",
              "  </svg>\n",
              "      </button>\n",
              "      \n",
              "  <style>\n",
              "    .colab-df-container {\n",
              "      display:flex;\n",
              "      flex-wrap:wrap;\n",
              "      gap: 12px;\n",
              "    }\n",
              "\n",
              "    .colab-df-convert {\n",
              "      background-color: #E8F0FE;\n",
              "      border: none;\n",
              "      border-radius: 50%;\n",
              "      cursor: pointer;\n",
              "      display: none;\n",
              "      fill: #1967D2;\n",
              "      height: 32px;\n",
              "      padding: 0 0 0 0;\n",
              "      width: 32px;\n",
              "    }\n",
              "\n",
              "    .colab-df-convert:hover {\n",
              "      background-color: #E2EBFA;\n",
              "      box-shadow: 0px 1px 2px rgba(60, 64, 67, 0.3), 0px 1px 3px 1px rgba(60, 64, 67, 0.15);\n",
              "      fill: #174EA6;\n",
              "    }\n",
              "\n",
              "    [theme=dark] .colab-df-convert {\n",
              "      background-color: #3B4455;\n",
              "      fill: #D2E3FC;\n",
              "    }\n",
              "\n",
              "    [theme=dark] .colab-df-convert:hover {\n",
              "      background-color: #434B5C;\n",
              "      box-shadow: 0px 1px 3px 1px rgba(0, 0, 0, 0.15);\n",
              "      filter: drop-shadow(0px 1px 2px rgba(0, 0, 0, 0.3));\n",
              "      fill: #FFFFFF;\n",
              "    }\n",
              "  </style>\n",
              "\n",
              "      <script>\n",
              "        const buttonEl =\n",
              "          document.querySelector('#df-311db585-19d0-48c4-a6be-7bdfd1fb9abb button.colab-df-convert');\n",
              "        buttonEl.style.display =\n",
              "          google.colab.kernel.accessAllowed ? 'block' : 'none';\n",
              "\n",
              "        async function convertToInteractive(key) {\n",
              "          const element = document.querySelector('#df-311db585-19d0-48c4-a6be-7bdfd1fb9abb');\n",
              "          const dataTable =\n",
              "            await google.colab.kernel.invokeFunction('convertToInteractive',\n",
              "                                                     [key], {});\n",
              "          if (!dataTable) return;\n",
              "\n",
              "          const docLinkHtml = 'Like what you see? Visit the ' +\n",
              "            '<a target=\"_blank\" href=https://colab.research.google.com/notebooks/data_table.ipynb>data table notebook</a>'\n",
              "            + ' to learn more about interactive tables.';\n",
              "          element.innerHTML = '';\n",
              "          dataTable['output_type'] = 'display_data';\n",
              "          await google.colab.output.renderOutput(dataTable, element);\n",
              "          const docLink = document.createElement('div');\n",
              "          docLink.innerHTML = docLinkHtml;\n",
              "          element.appendChild(docLink);\n",
              "        }\n",
              "      </script>\n",
              "    </div>\n",
              "  </div>\n",
              "  "
            ]
          },
          "metadata": {},
          "execution_count": 26
        }
      ]
    },
    {
      "cell_type": "markdown",
      "source": [
        "\n",
        "*   Null Hypothesis:Education and Credit_history are independent\n",
        "*   Alternate Hypothesis:Education and Credit_history are dependent"
      ],
      "metadata": {
        "id": "nLT9rtkSqyJo"
      }
    },
    {
      "cell_type": "code",
      "source": [
        "from scipy.stats import chi2_contingency\n",
        "chi_sq(test['Education'],test['Credit_History'])"
      ],
      "metadata": {
        "id": "HaE51vNnrFcv",
        "outputId": "2055a2e8-ca7f-47be-fabe-a3993be1b3b2",
        "colab": {
          "base_uri": "https://localhost:8080/",
          "height": 160
        }
      },
      "execution_count": null,
      "outputs": [
        {
          "output_type": "stream",
          "name": "stdout",
          "text": [
            "Failed to reject the null hypothesis 0.5\n"
          ]
        },
        {
          "output_type": "execute_result",
          "data": {
            "text/plain": [
              "Credit_History  0.0  1.0\n",
              "Education               \n",
              "0                43  240\n",
              "1                16   68"
            ],
            "text/html": [
              "\n",
              "  <div id=\"df-0da3ab66-5e84-49d5-9924-d4c83215deff\">\n",
              "    <div class=\"colab-df-container\">\n",
              "      <div>\n",
              "<style scoped>\n",
              "    .dataframe tbody tr th:only-of-type {\n",
              "        vertical-align: middle;\n",
              "    }\n",
              "\n",
              "    .dataframe tbody tr th {\n",
              "        vertical-align: top;\n",
              "    }\n",
              "\n",
              "    .dataframe thead th {\n",
              "        text-align: right;\n",
              "    }\n",
              "</style>\n",
              "<table border=\"1\" class=\"dataframe\">\n",
              "  <thead>\n",
              "    <tr style=\"text-align: right;\">\n",
              "      <th>Credit_History</th>\n",
              "      <th>0.0</th>\n",
              "      <th>1.0</th>\n",
              "    </tr>\n",
              "    <tr>\n",
              "      <th>Education</th>\n",
              "      <th></th>\n",
              "      <th></th>\n",
              "    </tr>\n",
              "  </thead>\n",
              "  <tbody>\n",
              "    <tr>\n",
              "      <th>0</th>\n",
              "      <td>43</td>\n",
              "      <td>240</td>\n",
              "    </tr>\n",
              "    <tr>\n",
              "      <th>1</th>\n",
              "      <td>16</td>\n",
              "      <td>68</td>\n",
              "    </tr>\n",
              "  </tbody>\n",
              "</table>\n",
              "</div>\n",
              "      <button class=\"colab-df-convert\" onclick=\"convertToInteractive('df-0da3ab66-5e84-49d5-9924-d4c83215deff')\"\n",
              "              title=\"Convert this dataframe to an interactive table.\"\n",
              "              style=\"display:none;\">\n",
              "        \n",
              "  <svg xmlns=\"http://www.w3.org/2000/svg\" height=\"24px\"viewBox=\"0 0 24 24\"\n",
              "       width=\"24px\">\n",
              "    <path d=\"M0 0h24v24H0V0z\" fill=\"none\"/>\n",
              "    <path d=\"M18.56 5.44l.94 2.06.94-2.06 2.06-.94-2.06-.94-.94-2.06-.94 2.06-2.06.94zm-11 1L8.5 8.5l.94-2.06 2.06-.94-2.06-.94L8.5 2.5l-.94 2.06-2.06.94zm10 10l.94 2.06.94-2.06 2.06-.94-2.06-.94-.94-2.06-.94 2.06-2.06.94z\"/><path d=\"M17.41 7.96l-1.37-1.37c-.4-.4-.92-.59-1.43-.59-.52 0-1.04.2-1.43.59L10.3 9.45l-7.72 7.72c-.78.78-.78 2.05 0 2.83L4 21.41c.39.39.9.59 1.41.59.51 0 1.02-.2 1.41-.59l7.78-7.78 2.81-2.81c.8-.78.8-2.07 0-2.86zM5.41 20L4 18.59l7.72-7.72 1.47 1.35L5.41 20z\"/>\n",
              "  </svg>\n",
              "      </button>\n",
              "      \n",
              "  <style>\n",
              "    .colab-df-container {\n",
              "      display:flex;\n",
              "      flex-wrap:wrap;\n",
              "      gap: 12px;\n",
              "    }\n",
              "\n",
              "    .colab-df-convert {\n",
              "      background-color: #E8F0FE;\n",
              "      border: none;\n",
              "      border-radius: 50%;\n",
              "      cursor: pointer;\n",
              "      display: none;\n",
              "      fill: #1967D2;\n",
              "      height: 32px;\n",
              "      padding: 0 0 0 0;\n",
              "      width: 32px;\n",
              "    }\n",
              "\n",
              "    .colab-df-convert:hover {\n",
              "      background-color: #E2EBFA;\n",
              "      box-shadow: 0px 1px 2px rgba(60, 64, 67, 0.3), 0px 1px 3px 1px rgba(60, 64, 67, 0.15);\n",
              "      fill: #174EA6;\n",
              "    }\n",
              "\n",
              "    [theme=dark] .colab-df-convert {\n",
              "      background-color: #3B4455;\n",
              "      fill: #D2E3FC;\n",
              "    }\n",
              "\n",
              "    [theme=dark] .colab-df-convert:hover {\n",
              "      background-color: #434B5C;\n",
              "      box-shadow: 0px 1px 3px 1px rgba(0, 0, 0, 0.15);\n",
              "      filter: drop-shadow(0px 1px 2px rgba(0, 0, 0, 0.3));\n",
              "      fill: #FFFFFF;\n",
              "    }\n",
              "  </style>\n",
              "\n",
              "      <script>\n",
              "        const buttonEl =\n",
              "          document.querySelector('#df-0da3ab66-5e84-49d5-9924-d4c83215deff button.colab-df-convert');\n",
              "        buttonEl.style.display =\n",
              "          google.colab.kernel.accessAllowed ? 'block' : 'none';\n",
              "\n",
              "        async function convertToInteractive(key) {\n",
              "          const element = document.querySelector('#df-0da3ab66-5e84-49d5-9924-d4c83215deff');\n",
              "          const dataTable =\n",
              "            await google.colab.kernel.invokeFunction('convertToInteractive',\n",
              "                                                     [key], {});\n",
              "          if (!dataTable) return;\n",
              "\n",
              "          const docLinkHtml = 'Like what you see? Visit the ' +\n",
              "            '<a target=\"_blank\" href=https://colab.research.google.com/notebooks/data_table.ipynb>data table notebook</a>'\n",
              "            + ' to learn more about interactive tables.';\n",
              "          element.innerHTML = '';\n",
              "          dataTable['output_type'] = 'display_data';\n",
              "          await google.colab.output.renderOutput(dataTable, element);\n",
              "          const docLink = document.createElement('div');\n",
              "          docLink.innerHTML = docLinkHtml;\n",
              "          element.appendChild(docLink);\n",
              "        }\n",
              "      </script>\n",
              "    </div>\n",
              "  </div>\n",
              "  "
            ]
          },
          "metadata": {},
          "execution_count": 27
        }
      ]
    },
    {
      "cell_type": "code",
      "source": [
        "sns.pairplot(test)"
      ],
      "metadata": {
        "colab": {
          "base_uri": "https://localhost:8080/",
          "height": 841
        },
        "id": "4xEt_RaIf8re",
        "outputId": "66a36211-bee5-4fe3-d643-139bec947ee1"
      },
      "execution_count": null,
      "outputs": [
        {
          "output_type": "execute_result",
          "data": {
            "text/plain": [
              "<seaborn.axisgrid.PairGrid at 0x7f3476e616d0>"
            ]
          },
          "metadata": {},
          "execution_count": 28
        },
        {
          "output_type": "display_data",
          "data": {
            "text/plain": [
              "<Figure size 1980x1980 with 132 Axes>"
            ],
            "image/png": "[encoded data removed]"
          },
          "metadata": {
            "needs_background": "light"
          }
        }
      ]
    },
    {
      "cell_type": "markdown",
      "source": [
        "Multi variate analysis"
      ],
      "metadata": {
        "id": "QxRm0ORok2tP"
      }
    },
    {
      "cell_type": "markdown",
      "source": [
        "Split data into train and test"
      ],
      "metadata": {
        "id": "d2Ih_Lb9lXSg"
      }
    },
    {
      "cell_type": "code",
      "source": [
        "x=test.drop(['Credit_History'],axis=1)\n",
        "y=test['Credit_History']"
      ],
      "metadata": {
        "id": "G6w9PLsulTeN"
      },
      "execution_count": null,
      "outputs": []
    },
    {
      "cell_type": "code",
      "source": [
        "print(x.shape)\n",
        "print(y.shape)"
      ],
      "metadata": {
        "id": "2tTDXM8PntoE",
        "colab": {
          "base_uri": "https://localhost:8080/"
        },
        "outputId": "7272d6da-b101-4a61-c37c-e0c86a335c22"
      },
      "execution_count": null,
      "outputs": [
        {
          "output_type": "stream",
          "name": "stdout",
          "text": [
            "(367, 10)\n",
            "(367,)\n"
          ]
        }
      ]
    },
    {
      "cell_type": "code",
      "source": [
        "x_train,x_test,y_train,y_test=train_test_split(x,y,test_size=0.2,random_state=123)\n"
      ],
      "metadata": {
        "id": "89cLTvkpqU7E"
      },
      "execution_count": null,
      "outputs": []
    },
    {
      "cell_type": "code",
      "source": [
        "print(x_train.shape)\n",
        "print(x_test.shape)\n",
        "print(y_train.shape)\n",
        "print(y_test.shape)"
      ],
      "metadata": {
        "id": "_Ip1BFoTq2J9",
        "colab": {
          "base_uri": "https://localhost:8080/"
        },
        "outputId": "8b8b87d1-e509-4440-ec4d-6dfd38ea598f"
      },
      "execution_count": null,
      "outputs": [
        {
          "output_type": "stream",
          "name": "stdout",
          "text": [
            "(293, 10)\n",
            "(74, 10)\n",
            "(293,)\n",
            "(74,)\n"
          ]
        }
      ]
    },
    {
      "cell_type": "code",
      "source": [
        "lr=LogisticRegression()\n",
        "lr.fit(x_train,y_train)\n",
        "preds_ytrain_lr=lr.predict(x_train)\n",
        "preds_ytest_lr=lr.predict(x_test)"
      ],
      "metadata": {
        "id": "EUEgeFvUuU2R"
      },
      "execution_count": null,
      "outputs": []
    },
    {
      "cell_type": "code",
      "source": [
        "def acc_report(actual,predicted):\n",
        "  acc_score=accuracy_score(actual,predicted)\n",
        "  cm_matrix=confusion_matrix(actual,predicted)\n",
        "  clas_rep=classification_report(actual,predicted)\n",
        "  print(\"Accuracy\",round(acc_score,2))\n",
        "  print(cm_matrix)\n",
        "  print(clas_rep)"
      ],
      "metadata": {
        "id": "u5geznLquocb"
      },
      "execution_count": null,
      "outputs": []
    },
    {
      "cell_type": "code",
      "source": [
        "acc_report(y_train,preds_ytrain_lr)"
      ],
      "metadata": {
        "id": "-hBSbeb-ISlW",
        "colab": {
          "base_uri": "https://localhost:8080/"
        },
        "outputId": "990400a5-fe6a-4c33-a9e6-630fb5cefc24"
      },
      "execution_count": null,
      "outputs": [
        {
          "output_type": "stream",
          "name": "stdout",
          "text": [
            "Accuracy 0.83\n",
            "[[  2  50]\n",
            " [  0 241]]\n",
            "              precision    recall  f1-score   support\n",
            "\n",
            "         0.0       1.00      0.04      0.07        52\n",
            "         1.0       0.83      1.00      0.91       241\n",
            "\n",
            "    accuracy                           0.83       293\n",
            "   macro avg       0.91      0.52      0.49       293\n",
            "weighted avg       0.86      0.83      0.76       293\n",
            "\n"
          ]
        }
      ]
    },
    {
      "cell_type": "code",
      "source": [
        "acc_report(y_test,preds_ytest_lr)"
      ],
      "metadata": {
        "id": "CqGAhEeVIr-n",
        "colab": {
          "base_uri": "https://localhost:8080/"
        },
        "outputId": "7cfb158b-e565-42f7-f446-954ffc7a24fc"
      },
      "execution_count": null,
      "outputs": [
        {
          "output_type": "stream",
          "name": "stdout",
          "text": [
            "Accuracy 0.91\n",
            "[[ 0  7]\n",
            " [ 0 67]]\n",
            "              precision    recall  f1-score   support\n",
            "\n",
            "         0.0       0.00      0.00      0.00         7\n",
            "         1.0       0.91      1.00      0.95        67\n",
            "\n",
            "    accuracy                           0.91        74\n",
            "   macro avg       0.45      0.50      0.48        74\n",
            "weighted avg       0.82      0.91      0.86        74\n",
            "\n"
          ]
        },
        {
          "output_type": "stream",
          "name": "stderr",
          "text": [
            "/usr/local/lib/python3.9/dist-packages/sklearn/metrics/_classification.py:1344: UndefinedMetricWarning: Precision and F-score are ill-defined and being set to 0.0 in labels with no predicted samples. Use `zero_division` parameter to control this behavior.\n",
            "  _warn_prf(average, modifier, msg_start, len(result))\n",
            "/usr/local/lib/python3.9/dist-packages/sklearn/metrics/_classification.py:1344: UndefinedMetricWarning: Precision and F-score are ill-defined and being set to 0.0 in labels with no predicted samples. Use `zero_division` parameter to control this behavior.\n",
            "  _warn_prf(average, modifier, msg_start, len(result))\n",
            "/usr/local/lib/python3.9/dist-packages/sklearn/metrics/_classification.py:1344: UndefinedMetricWarning: Precision and F-score are ill-defined and being set to 0.0 in labels with no predicted samples. Use `zero_division` parameter to control this behavior.\n",
            "  _warn_prf(average, modifier, msg_start, len(result))\n"
          ]
        }
      ]
    },
    {
      "cell_type": "markdown",
      "source": [
        "**Biased** is the models accuracy in a trainind dataset,\n",
        "variance is the difference bw the train n test is low "
      ],
      "metadata": {
        "id": "J4Qt_yDsN7xS"
      }
    },
    {
      "cell_type": "markdown",
      "source": [
        "high biased model is the model with 50 60 % accuracy,,,so this not considerd"
      ],
      "metadata": {
        "id": "3grv27v9O4vI"
      }
    },
    {
      "cell_type": "markdown",
      "source": [
        "Low biased and high variance --overfitting\n",
        "when model is overfitting,it  tends to predict for noise present in the data too"
      ],
      "metadata": {
        "id": "FWVSosDiO591"
      }
    },
    {
      "cell_type": "code",
      "source": [
        "lr.coef_"
      ],
      "metadata": {
        "id": "O7P43SjcOP0y",
        "colab": {
          "base_uri": "https://localhost:8080/"
        },
        "outputId": "a7345557-472a-467d-c43e-ec05259c8167"
      },
      "execution_count": null,
      "outputs": [
        {
          "output_type": "execute_result",
          "data": {
            "text/plain": [
              "array([[ 2.00057432e-01,  1.97348344e-01, -2.09923397e-01,\n",
              "         7.47466200e-02,  1.36049587e-01,  2.64247414e-04,\n",
              "         1.70032393e-05, -5.22200199e-03,  1.53663344e-03,\n",
              "         3.03212905e-01]])"
            ]
          },
          "metadata": {},
          "execution_count": 37
        }
      ]
    },
    {
      "cell_type": "code",
      "source": [
        "lr.intercept_"
      ],
      "metadata": {
        "id": "RgwNOT4DOXQR",
        "colab": {
          "base_uri": "https://localhost:8080/"
        },
        "outputId": "ff22f8c0-3678-4340-fcc9-9dd814fcd8bd"
      },
      "execution_count": null,
      "outputs": [
        {
          "output_type": "execute_result",
          "data": {
            "text/plain": [
              "array([0.12895155])"
            ]
          },
          "metadata": {},
          "execution_count": 38
        }
      ]
    },
    {
      "cell_type": "code",
      "source": [
        "lr.predict_proba(x_train)"
      ],
      "metadata": {
        "id": "tA0VEckTRbSQ",
        "colab": {
          "base_uri": "https://localhost:8080/"
        },
        "outputId": "a4b26ff2-f86b-4876-bbe6-64b2f76fcf31"
      },
      "execution_count": null,
      "outputs": [
        {
          "output_type": "execute_result",
          "data": {
            "text/plain": [
              "array([[1.94763463e-01, 8.05236537e-01],\n",
              "       [1.29981232e-01, 8.70018768e-01],\n",
              "       [1.21856502e-01, 8.78143498e-01],\n",
              "       [1.81713690e-01, 8.18286310e-01],\n",
              "       [1.29051234e-01, 8.70948766e-01],\n",
              "       [1.20525616e-01, 8.79474384e-01],\n",
              "       [1.88045898e-01, 8.11954102e-01],\n",
              "       [2.54712580e-01, 7.45287420e-01],\n",
              "       [1.23934148e-01, 8.76065852e-01],\n",
              "       [2.16219339e-01, 7.83780661e-01],\n",
              "       [8.67832140e-02, 9.13216786e-01],\n",
              "       [2.47969465e-01, 7.52030535e-01],\n",
              "       [2.10794798e-01, 7.89205202e-01],\n",
              "       [7.17392033e-02, 9.28260797e-01],\n",
              "       [1.63460927e-01, 8.36539073e-01],\n",
              "       [1.93726222e-01, 8.06273778e-01],\n",
              "       [1.86300030e-01, 8.13699970e-01],\n",
              "       [1.70398735e-01, 8.29601265e-01],\n",
              "       [8.22265994e-04, 9.99177734e-01],\n",
              "       [1.77052958e-01, 8.22947042e-01],\n",
              "       [2.10277412e-01, 7.89722588e-01],\n",
              "       [3.60865654e-04, 9.99639134e-01],\n",
              "       [2.97097229e-01, 7.02902771e-01],\n",
              "       [1.56029099e-01, 8.43970901e-01],\n",
              "       [2.39456553e-01, 7.60543447e-01],\n",
              "       [2.70162028e-01, 7.29837972e-01],\n",
              "       [1.05633247e-01, 8.94366753e-01],\n",
              "       [1.41504684e-01, 8.58495316e-01],\n",
              "       [2.30364631e-01, 7.69635369e-01],\n",
              "       [2.12813579e-01, 7.87186421e-01],\n",
              "       [3.75354156e-01, 6.24645844e-01],\n",
              "       [2.69278624e-01, 7.30721376e-01],\n",
              "       [1.93008672e-01, 8.06991328e-01],\n",
              "       [2.56714238e-01, 7.43285762e-01],\n",
              "       [1.50165473e-01, 8.49834527e-01],\n",
              "       [9.10175116e-02, 9.08982488e-01],\n",
              "       [2.47166216e-01, 7.52833784e-01],\n",
              "       [3.12353661e-01, 6.87646339e-01],\n",
              "       [2.01459684e-01, 7.98540316e-01],\n",
              "       [1.83790404e-01, 8.16209596e-01],\n",
              "       [2.65966424e-01, 7.34033576e-01],\n",
              "       [2.31365918e-01, 7.68634082e-01],\n",
              "       [2.59680247e-01, 7.40319753e-01],\n",
              "       [1.16570422e-01, 8.83429578e-01],\n",
              "       [1.43304167e-01, 8.56695833e-01],\n",
              "       [2.26647474e-01, 7.73352526e-01],\n",
              "       [2.43426760e-01, 7.56573240e-01],\n",
              "       [2.49980380e-01, 7.50019620e-01],\n",
              "       [6.76698556e-02, 9.32330144e-01],\n",
              "       [1.73279200e-01, 8.26720800e-01],\n",
              "       [1.16950093e-01, 8.83049907e-01],\n",
              "       [1.74568187e-01, 8.25431813e-01],\n",
              "       [1.25921015e-01, 8.74078985e-01],\n",
              "       [9.89127472e-02, 9.01087253e-01],\n",
              "       [1.19819161e-01, 8.80180839e-01],\n",
              "       [2.36918867e-01, 7.63081133e-01],\n",
              "       [1.12140056e-01, 8.87859944e-01],\n",
              "       [2.58603054e-01, 7.41396946e-01],\n",
              "       [1.94971410e-01, 8.05028590e-01],\n",
              "       [1.97891843e-01, 8.02108157e-01],\n",
              "       [2.79661229e-01, 7.20338771e-01],\n",
              "       [1.94641325e-01, 8.05358675e-01],\n",
              "       [1.47644209e-01, 8.52355791e-01],\n",
              "       [1.64716908e-01, 8.35283092e-01],\n",
              "       [1.16940448e-01, 8.83059552e-01],\n",
              "       [1.44187898e-01, 8.55812102e-01],\n",
              "       [1.92036075e-01, 8.07963925e-01],\n",
              "       [2.30967300e-01, 7.69032700e-01],\n",
              "       [1.33579581e-01, 8.66420419e-01],\n",
              "       [2.25207582e-01, 7.74792418e-01],\n",
              "       [2.88686839e-01, 7.11313161e-01],\n",
              "       [1.50436211e-01, 8.49563789e-01],\n",
              "       [1.58932010e-02, 9.84106799e-01],\n",
              "       [2.61224822e-01, 7.38775178e-01],\n",
              "       [2.21433705e-01, 7.78566295e-01],\n",
              "       [4.61682342e-02, 9.53831766e-01],\n",
              "       [1.36957727e-01, 8.63042273e-01],\n",
              "       [1.11745976e-01, 8.88254024e-01],\n",
              "       [1.08198764e-08, 9.99999989e-01],\n",
              "       [2.15467133e-01, 7.84532867e-01],\n",
              "       [2.47661953e-01, 7.52338047e-01],\n",
              "       [1.39596151e-01, 8.60403849e-01],\n",
              "       [2.00945855e-01, 7.99054145e-01],\n",
              "       [2.74023731e-01, 7.25976269e-01],\n",
              "       [1.63429062e-01, 8.36570938e-01],\n",
              "       [3.19596877e-01, 6.80403123e-01],\n",
              "       [1.64446693e-01, 8.35553307e-01],\n",
              "       [1.54896879e-01, 8.45103121e-01],\n",
              "       [1.37206203e-01, 8.62793797e-01],\n",
              "       [2.70447149e-01, 7.29552851e-01],\n",
              "       [1.64835753e-01, 8.35164247e-01],\n",
              "       [2.83515146e-01, 7.16484854e-01],\n",
              "       [1.78027101e-01, 8.21972899e-01],\n",
              "       [1.21015844e-01, 8.78984156e-01],\n",
              "       [2.24238720e-01, 7.75761280e-01],\n",
              "       [2.53283223e-01, 7.46716777e-01],\n",
              "       [1.39196769e-01, 8.60803231e-01],\n",
              "       [1.78221249e-01, 8.21778751e-01],\n",
              "       [2.11923914e-02, 9.78807609e-01],\n",
              "       [1.43192580e-01, 8.56807420e-01],\n",
              "       [1.93939968e-01, 8.06060032e-01],\n",
              "       [2.56568534e-01, 7.43431466e-01],\n",
              "       [1.08563395e-01, 8.91436605e-01],\n",
              "       [1.19353931e-01, 8.80646069e-01],\n",
              "       [1.29116976e-01, 8.70883024e-01],\n",
              "       [1.53754376e-01, 8.46245624e-01],\n",
              "       [2.84165069e-01, 7.15834931e-01],\n",
              "       [2.17099891e-01, 7.82900109e-01],\n",
              "       [1.12155846e-01, 8.87844154e-01],\n",
              "       [1.28960853e-01, 8.71039147e-01],\n",
              "       [1.19781864e-01, 8.80218136e-01],\n",
              "       [1.09485321e-01, 8.90514679e-01],\n",
              "       [3.31560966e-01, 6.68439034e-01],\n",
              "       [4.63066112e-02, 9.53693389e-01],\n",
              "       [1.53217822e-01, 8.46782178e-01],\n",
              "       [1.77994988e-01, 8.22005012e-01],\n",
              "       [3.04722292e-01, 6.95277708e-01],\n",
              "       [1.87972334e-03, 9.98120277e-01],\n",
              "       [2.05655182e-01, 7.94344818e-01],\n",
              "       [1.59915811e-01, 8.40084189e-01],\n",
              "       [3.02772370e-01, 6.97227630e-01],\n",
              "       [2.03180348e-01, 7.96819652e-01],\n",
              "       [2.01886646e-01, 7.98113354e-01],\n",
              "       [2.84209925e-01, 7.15790075e-01],\n",
              "       [2.53509486e-01, 7.46490514e-01],\n",
              "       [2.11733061e-01, 7.88266939e-01],\n",
              "       [2.07848590e-01, 7.92151410e-01],\n",
              "       [2.29475880e-01, 7.70524120e-01],\n",
              "       [1.48956340e-01, 8.51043660e-01],\n",
              "       [1.73055524e-01, 8.26944476e-01],\n",
              "       [1.40579265e-01, 8.59420735e-01],\n",
              "       [2.91616619e-01, 7.08383381e-01],\n",
              "       [6.30863838e-02, 9.36913616e-01],\n",
              "       [2.37939082e-01, 7.62060918e-01],\n",
              "       [1.35165030e-01, 8.64834970e-01],\n",
              "       [1.03577004e-01, 8.96422996e-01],\n",
              "       [2.45582364e-01, 7.54417636e-01],\n",
              "       [2.20460536e-01, 7.79539464e-01],\n",
              "       [1.36225638e-01, 8.63774362e-01],\n",
              "       [2.51814970e-01, 7.48185030e-01],\n",
              "       [1.80497519e-01, 8.19502481e-01],\n",
              "       [1.83344881e-01, 8.16655119e-01],\n",
              "       [1.97427887e-01, 8.02572113e-01],\n",
              "       [6.18403376e-03, 9.93815966e-01],\n",
              "       [8.84081286e-02, 9.11591871e-01],\n",
              "       [7.17392033e-02, 9.28260797e-01],\n",
              "       [2.90835752e-01, 7.09164248e-01],\n",
              "       [3.03258620e-01, 6.96741380e-01],\n",
              "       [2.33797659e-01, 7.66202341e-01],\n",
              "       [1.36662136e-01, 8.63337864e-01],\n",
              "       [2.22146154e-01, 7.77853846e-01],\n",
              "       [1.35896085e-01, 8.64103915e-01],\n",
              "       [2.86575425e-01, 7.13424575e-01],\n",
              "       [2.57636094e-01, 7.42363906e-01],\n",
              "       [1.25960656e-01, 8.74039344e-01],\n",
              "       [1.28766714e-01, 8.71233286e-01],\n",
              "       [2.79443482e-01, 7.20556518e-01],\n",
              "       [3.04124729e-01, 6.95875271e-01],\n",
              "       [1.25562885e-01, 8.74437115e-01],\n",
              "       [2.12139953e-01, 7.87860047e-01],\n",
              "       [1.82909471e-01, 8.17090529e-01],\n",
              "       [1.63583317e-01, 8.36416683e-01],\n",
              "       [2.47971245e-01, 7.52028755e-01],\n",
              "       [1.06671601e-01, 8.93328399e-01],\n",
              "       [2.38334700e-01, 7.61665300e-01],\n",
              "       [2.15480881e-01, 7.84519119e-01],\n",
              "       [1.45978925e-01, 8.54021075e-01],\n",
              "       [1.60762920e-01, 8.39237080e-01],\n",
              "       [1.12360042e-01, 8.87639958e-01],\n",
              "       [3.32066791e-01, 6.67933209e-01],\n",
              "       [1.55584805e-01, 8.44415195e-01],\n",
              "       [4.87073255e-02, 9.51292674e-01],\n",
              "       [4.33851270e-02, 9.56614873e-01],\n",
              "       [2.31688017e-01, 7.68311983e-01],\n",
              "       [2.47059461e-02, 9.75294054e-01],\n",
              "       [2.07514204e-02, 9.79248580e-01],\n",
              "       [1.52711359e-01, 8.47288641e-01],\n",
              "       [3.51366100e-02, 9.64863390e-01],\n",
              "       [2.49140458e-01, 7.50859542e-01],\n",
              "       [1.31544440e-01, 8.68455560e-01],\n",
              "       [1.83321671e-01, 8.16678329e-01],\n",
              "       [1.76069264e-01, 8.23930736e-01],\n",
              "       [1.63722278e-01, 8.36277722e-01],\n",
              "       [1.38620216e-01, 8.61379784e-01],\n",
              "       [6.50626833e-02, 9.34937317e-01],\n",
              "       [9.64524964e-02, 9.03547504e-01],\n",
              "       [1.59071942e-01, 8.40928058e-01],\n",
              "       [1.83343921e-01, 8.16656079e-01],\n",
              "       [1.74913581e-01, 8.25086419e-01],\n",
              "       [3.83442185e-02, 9.61655781e-01],\n",
              "       [8.04163814e-02, 9.19583619e-01],\n",
              "       [3.45150444e-01, 6.54849556e-01],\n",
              "       [2.03721806e-01, 7.96278194e-01],\n",
              "       [5.50227852e-01, 4.49772148e-01],\n",
              "       [3.51960672e-01, 6.48039328e-01],\n",
              "       [2.09603426e-01, 7.90396574e-01],\n",
              "       [1.37411736e-01, 8.62588264e-01],\n",
              "       [1.55727399e-01, 8.44272601e-01],\n",
              "       [1.75013378e-01, 8.24986622e-01],\n",
              "       [1.95930754e-01, 8.04069246e-01],\n",
              "       [1.51457869e-01, 8.48542131e-01],\n",
              "       [1.15077400e-01, 8.84922600e-01],\n",
              "       [1.23767828e-01, 8.76232172e-01],\n",
              "       [1.07433123e-01, 8.92566877e-01],\n",
              "       [1.72896389e-01, 8.27103611e-01],\n",
              "       [1.85072527e-01, 8.14927473e-01],\n",
              "       [3.56315838e-01, 6.43684162e-01],\n",
              "       [1.88343115e-01, 8.11656885e-01],\n",
              "       [4.62554130e-01, 5.37445870e-01],\n",
              "       [9.14931447e-02, 9.08506855e-01],\n",
              "       [2.06198480e-01, 7.93801520e-01],\n",
              "       [1.96845668e-01, 8.03154332e-01],\n",
              "       [1.72101993e-01, 8.27898007e-01],\n",
              "       [1.82499764e-01, 8.17500236e-01],\n",
              "       [1.87435293e-01, 8.12564707e-01],\n",
              "       [2.18320844e-01, 7.81679156e-01],\n",
              "       [1.33221839e-01, 8.66778161e-01],\n",
              "       [2.44771945e-01, 7.55228055e-01],\n",
              "       [3.50687728e-01, 6.49312272e-01],\n",
              "       [2.29346474e-01, 7.70653526e-01],\n",
              "       [2.87658406e-01, 7.12341594e-01],\n",
              "       [9.41160784e-02, 9.05883922e-01],\n",
              "       [2.89741819e-01, 7.10258181e-01],\n",
              "       [1.66002112e-01, 8.33997888e-01],\n",
              "       [1.96936352e-01, 8.03063648e-01],\n",
              "       [2.24219685e-01, 7.75780315e-01],\n",
              "       [9.08512421e-02, 9.09148758e-01],\n",
              "       [2.42297575e-01, 7.57702425e-01],\n",
              "       [1.60245115e-01, 8.39754885e-01],\n",
              "       [6.34521304e-02, 9.36547870e-01],\n",
              "       [1.23691453e-01, 8.76308547e-01],\n",
              "       [3.73456079e-01, 6.26543921e-01],\n",
              "       [2.91161516e-01, 7.08838484e-01],\n",
              "       [1.87071510e-01, 8.12928490e-01],\n",
              "       [1.29788945e-01, 8.70211055e-01],\n",
              "       [1.42447391e-01, 8.57552609e-01],\n",
              "       [2.17097723e-01, 7.82902277e-01],\n",
              "       [2.69903961e-01, 7.30096039e-01],\n",
              "       [2.91623444e-01, 7.08376556e-01],\n",
              "       [9.11022195e-02, 9.08897781e-01],\n",
              "       [1.72696539e-01, 8.27303461e-01],\n",
              "       [2.06186671e-01, 7.93813329e-01],\n",
              "       [1.13796377e-01, 8.86203623e-01],\n",
              "       [1.70698343e-01, 8.29301657e-01],\n",
              "       [1.30027185e-01, 8.69972815e-01],\n",
              "       [3.41088766e-01, 6.58911234e-01],\n",
              "       [1.60319751e-01, 8.39680249e-01],\n",
              "       [1.86634662e-01, 8.13365338e-01],\n",
              "       [2.92264669e-01, 7.07735331e-01],\n",
              "       [1.83615861e-01, 8.16384139e-01],\n",
              "       [1.59136335e-01, 8.40863665e-01],\n",
              "       [3.50173750e-02, 9.64982625e-01],\n",
              "       [3.60222181e-01, 6.39777819e-01],\n",
              "       [1.68315848e-01, 8.31684152e-01],\n",
              "       [1.82721067e-01, 8.17278933e-01],\n",
              "       [2.21592204e-01, 7.78407796e-01],\n",
              "       [1.66974804e-01, 8.33025196e-01],\n",
              "       [2.28282447e-01, 7.71717553e-01],\n",
              "       [1.71166463e-01, 8.28833537e-01],\n",
              "       [1.03550140e-01, 8.96449860e-01],\n",
              "       [2.01961610e-01, 7.98038390e-01],\n",
              "       [6.48049507e-02, 9.35195049e-01],\n",
              "       [1.68041936e-01, 8.31958064e-01],\n",
              "       [6.53159310e-02, 9.34684069e-01],\n",
              "       [1.46287921e-01, 8.53712079e-01],\n",
              "       [1.77731811e-01, 8.22268189e-01],\n",
              "       [5.07935944e-01, 4.92064056e-01],\n",
              "       [3.45031350e-01, 6.54968650e-01],\n",
              "       [8.07674887e-02, 9.19232511e-01],\n",
              "       [1.20884622e-01, 8.79115378e-01],\n",
              "       [1.13330436e-01, 8.86669564e-01],\n",
              "       [1.52316777e-01, 8.47683223e-01],\n",
              "       [1.63315847e-01, 8.36684153e-01],\n",
              "       [2.64866172e-01, 7.35133828e-01],\n",
              "       [1.21770478e-01, 8.78229522e-01],\n",
              "       [2.50696791e-01, 7.49303209e-01],\n",
              "       [2.16896833e-01, 7.83103167e-01],\n",
              "       [2.55353606e-01, 7.44646394e-01],\n",
              "       [2.05692652e-01, 7.94307348e-01],\n",
              "       [5.54373279e-02, 9.44562672e-01],\n",
              "       [2.77751236e-01, 7.22248764e-01],\n",
              "       [2.51361231e-01, 7.48638769e-01],\n",
              "       [1.71554945e-01, 8.28445055e-01],\n",
              "       [1.68917927e-01, 8.31082073e-01],\n",
              "       [2.68652586e-01, 7.31347414e-01],\n",
              "       [3.37297696e-01, 6.62702304e-01],\n",
              "       [2.11006495e-01, 7.88993505e-01],\n",
              "       [1.22376293e-01, 8.77623707e-01],\n",
              "       [2.49530357e-01, 7.50469643e-01],\n",
              "       [9.07236208e-03, 9.90927638e-01],\n",
              "       [3.53700383e-02, 9.64629962e-01],\n",
              "       [2.37200398e-01, 7.62799602e-01],\n",
              "       [1.65702661e-01, 8.34297339e-01]])"
            ]
          },
          "metadata": {},
          "execution_count": 39
        }
      ]
    },
    {
      "cell_type": "code",
      "source": [
        "preds_ytrain_lr"
      ],
      "metadata": {
        "id": "7E-BAQQKRwv6",
        "colab": {
          "base_uri": "https://localhost:8080/"
        },
        "outputId": "ed6f9c6e-39e8-4f14-e299-4e4f9a455659"
      },
      "execution_count": null,
      "outputs": [
        {
          "output_type": "execute_result",
          "data": {
            "text/plain": [
              "array([1., 1., 1., 1., 1., 1., 1., 1., 1., 1., 1., 1., 1., 1., 1., 1., 1.,\n",
              "       1., 1., 1., 1., 1., 1., 1., 1., 1., 1., 1., 1., 1., 1., 1., 1., 1.,\n",
              "       1., 1., 1., 1., 1., 1., 1., 1., 1., 1., 1., 1., 1., 1., 1., 1., 1.,\n",
              "       1., 1., 1., 1., 1., 1., 1., 1., 1., 1., 1., 1., 1., 1., 1., 1., 1.,\n",
              "       1., 1., 1., 1., 1., 1., 1., 1., 1., 1., 1., 1., 1., 1., 1., 1., 1.,\n",
              "       1., 1., 1., 1., 1., 1., 1., 1., 1., 1., 1., 1., 1., 1., 1., 1., 1.,\n",
              "       1., 1., 1., 1., 1., 1., 1., 1., 1., 1., 1., 1., 1., 1., 1., 1., 1.,\n",
              "       1., 1., 1., 1., 1., 1., 1., 1., 1., 1., 1., 1., 1., 1., 1., 1., 1.,\n",
              "       1., 1., 1., 1., 1., 1., 1., 1., 1., 1., 1., 1., 1., 1., 1., 1., 1.,\n",
              "       1., 1., 1., 1., 1., 1., 1., 1., 1., 1., 1., 1., 1., 1., 1., 1., 1.,\n",
              "       1., 1., 1., 1., 1., 1., 1., 1., 1., 1., 1., 1., 1., 1., 1., 1., 1.,\n",
              "       1., 1., 1., 1., 1., 1., 0., 1., 1., 1., 1., 1., 1., 1., 1., 1., 1.,\n",
              "       1., 1., 1., 1., 1., 1., 1., 1., 1., 1., 1., 1., 1., 1., 1., 1., 1.,\n",
              "       1., 1., 1., 1., 1., 1., 1., 1., 1., 1., 1., 1., 1., 1., 1., 1., 1.,\n",
              "       1., 1., 1., 1., 1., 1., 1., 1., 1., 1., 1., 1., 1., 1., 1., 1., 1.,\n",
              "       1., 1., 1., 1., 1., 1., 1., 1., 1., 1., 1., 0., 1., 1., 1., 1., 1.,\n",
              "       1., 1., 1., 1., 1., 1., 1., 1., 1., 1., 1., 1., 1., 1., 1., 1., 1.,\n",
              "       1., 1., 1., 1.])"
            ]
          },
          "metadata": {},
          "execution_count": 40
        }
      ]
    },
    {
      "cell_type": "code",
      "source": [
        "lr.predict_proba(x_train)"
      ],
      "metadata": {
        "id": "a_3NW0bNSDFO",
        "colab": {
          "base_uri": "https://localhost:8080/"
        },
        "outputId": "f294a578-0eab-4701-a636-ccb2a3dcf748"
      },
      "execution_count": null,
      "outputs": [
        {
          "output_type": "execute_result",
          "data": {
            "text/plain": [
              "array([[1.94763463e-01, 8.05236537e-01],\n",
              "       [1.29981232e-01, 8.70018768e-01],\n",
              "       [1.21856502e-01, 8.78143498e-01],\n",
              "       [1.81713690e-01, 8.18286310e-01],\n",
              "       [1.29051234e-01, 8.70948766e-01],\n",
              "       [1.20525616e-01, 8.79474384e-01],\n",
              "       [1.88045898e-01, 8.11954102e-01],\n",
              "       [2.54712580e-01, 7.45287420e-01],\n",
              "       [1.23934148e-01, 8.76065852e-01],\n",
              "       [2.16219339e-01, 7.83780661e-01],\n",
              "       [8.67832140e-02, 9.13216786e-01],\n",
              "       [2.47969465e-01, 7.52030535e-01],\n",
              "       [2.10794798e-01, 7.89205202e-01],\n",
              "       [7.17392033e-02, 9.28260797e-01],\n",
              "       [1.63460927e-01, 8.36539073e-01],\n",
              "       [1.93726222e-01, 8.06273778e-01],\n",
              "       [1.86300030e-01, 8.13699970e-01],\n",
              "       [1.70398735e-01, 8.29601265e-01],\n",
              "       [8.22265994e-04, 9.99177734e-01],\n",
              "       [1.77052958e-01, 8.22947042e-01],\n",
              "       [2.10277412e-01, 7.89722588e-01],\n",
              "       [3.60865654e-04, 9.99639134e-01],\n",
              "       [2.97097229e-01, 7.02902771e-01],\n",
              "       [1.56029099e-01, 8.43970901e-01],\n",
              "       [2.39456553e-01, 7.60543447e-01],\n",
              "       [2.70162028e-01, 7.29837972e-01],\n",
              "       [1.05633247e-01, 8.94366753e-01],\n",
              "       [1.41504684e-01, 8.58495316e-01],\n",
              "       [2.30364631e-01, 7.69635369e-01],\n",
              "       [2.12813579e-01, 7.87186421e-01],\n",
              "       [3.75354156e-01, 6.24645844e-01],\n",
              "       [2.69278624e-01, 7.30721376e-01],\n",
              "       [1.93008672e-01, 8.06991328e-01],\n",
              "       [2.56714238e-01, 7.43285762e-01],\n",
              "       [1.50165473e-01, 8.49834527e-01],\n",
              "       [9.10175116e-02, 9.08982488e-01],\n",
              "       [2.47166216e-01, 7.52833784e-01],\n",
              "       [3.12353661e-01, 6.87646339e-01],\n",
              "       [2.01459684e-01, 7.98540316e-01],\n",
              "       [1.83790404e-01, 8.16209596e-01],\n",
              "       [2.65966424e-01, 7.34033576e-01],\n",
              "       [2.31365918e-01, 7.68634082e-01],\n",
              "       [2.59680247e-01, 7.40319753e-01],\n",
              "       [1.16570422e-01, 8.83429578e-01],\n",
              "       [1.43304167e-01, 8.56695833e-01],\n",
              "       [2.26647474e-01, 7.73352526e-01],\n",
              "       [2.43426760e-01, 7.56573240e-01],\n",
              "       [2.49980380e-01, 7.50019620e-01],\n",
              "       [6.76698556e-02, 9.32330144e-01],\n",
              "       [1.73279200e-01, 8.26720800e-01],\n",
              "       [1.16950093e-01, 8.83049907e-01],\n",
              "       [1.74568187e-01, 8.25431813e-01],\n",
              "       [1.25921015e-01, 8.74078985e-01],\n",
              "       [9.89127472e-02, 9.01087253e-01],\n",
              "       [1.19819161e-01, 8.80180839e-01],\n",
              "       [2.36918867e-01, 7.63081133e-01],\n",
              "       [1.12140056e-01, 8.87859944e-01],\n",
              "       [2.58603054e-01, 7.41396946e-01],\n",
              "       [1.94971410e-01, 8.05028590e-01],\n",
              "       [1.97891843e-01, 8.02108157e-01],\n",
              "       [2.79661229e-01, 7.20338771e-01],\n",
              "       [1.94641325e-01, 8.05358675e-01],\n",
              "       [1.47644209e-01, 8.52355791e-01],\n",
              "       [1.64716908e-01, 8.35283092e-01],\n",
              "       [1.16940448e-01, 8.83059552e-01],\n",
              "       [1.44187898e-01, 8.55812102e-01],\n",
              "       [1.92036075e-01, 8.07963925e-01],\n",
              "       [2.30967300e-01, 7.69032700e-01],\n",
              "       [1.33579581e-01, 8.66420419e-01],\n",
              "       [2.25207582e-01, 7.74792418e-01],\n",
              "       [2.88686839e-01, 7.11313161e-01],\n",
              "       [1.50436211e-01, 8.49563789e-01],\n",
              "       [1.58932010e-02, 9.84106799e-01],\n",
              "       [2.61224822e-01, 7.38775178e-01],\n",
              "       [2.21433705e-01, 7.78566295e-01],\n",
              "       [4.61682342e-02, 9.53831766e-01],\n",
              "       [1.36957727e-01, 8.63042273e-01],\n",
              "       [1.11745976e-01, 8.88254024e-01],\n",
              "       [1.08198764e-08, 9.99999989e-01],\n",
              "       [2.15467133e-01, 7.84532867e-01],\n",
              "       [2.47661953e-01, 7.52338047e-01],\n",
              "       [1.39596151e-01, 8.60403849e-01],\n",
              "       [2.00945855e-01, 7.99054145e-01],\n",
              "       [2.74023731e-01, 7.25976269e-01],\n",
              "       [1.63429062e-01, 8.36570938e-01],\n",
              "       [3.19596877e-01, 6.80403123e-01],\n",
              "       [1.64446693e-01, 8.35553307e-01],\n",
              "       [1.54896879e-01, 8.45103121e-01],\n",
              "       [1.37206203e-01, 8.62793797e-01],\n",
              "       [2.70447149e-01, 7.29552851e-01],\n",
              "       [1.64835753e-01, 8.35164247e-01],\n",
              "       [2.83515146e-01, 7.16484854e-01],\n",
              "       [1.78027101e-01, 8.21972899e-01],\n",
              "       [1.21015844e-01, 8.78984156e-01],\n",
              "       [2.24238720e-01, 7.75761280e-01],\n",
              "       [2.53283223e-01, 7.46716777e-01],\n",
              "       [1.39196769e-01, 8.60803231e-01],\n",
              "       [1.78221249e-01, 8.21778751e-01],\n",
              "       [2.11923914e-02, 9.78807609e-01],\n",
              "       [1.43192580e-01, 8.56807420e-01],\n",
              "       [1.93939968e-01, 8.06060032e-01],\n",
              "       [2.56568534e-01, 7.43431466e-01],\n",
              "       [1.08563395e-01, 8.91436605e-01],\n",
              "       [1.19353931e-01, 8.80646069e-01],\n",
              "       [1.29116976e-01, 8.70883024e-01],\n",
              "       [1.53754376e-01, 8.46245624e-01],\n",
              "       [2.84165069e-01, 7.15834931e-01],\n",
              "       [2.17099891e-01, 7.82900109e-01],\n",
              "       [1.12155846e-01, 8.87844154e-01],\n",
              "       [1.28960853e-01, 8.71039147e-01],\n",
              "       [1.19781864e-01, 8.80218136e-01],\n",
              "       [1.09485321e-01, 8.90514679e-01],\n",
              "       [3.31560966e-01, 6.68439034e-01],\n",
              "       [4.63066112e-02, 9.53693389e-01],\n",
              "       [1.53217822e-01, 8.46782178e-01],\n",
              "       [1.77994988e-01, 8.22005012e-01],\n",
              "       [3.04722292e-01, 6.95277708e-01],\n",
              "       [1.87972334e-03, 9.98120277e-01],\n",
              "       [2.05655182e-01, 7.94344818e-01],\n",
              "       [1.59915811e-01, 8.40084189e-01],\n",
              "       [3.02772370e-01, 6.97227630e-01],\n",
              "       [2.03180348e-01, 7.96819652e-01],\n",
              "       [2.01886646e-01, 7.98113354e-01],\n",
              "       [2.84209925e-01, 7.15790075e-01],\n",
              "       [2.53509486e-01, 7.46490514e-01],\n",
              "       [2.11733061e-01, 7.88266939e-01],\n",
              "       [2.07848590e-01, 7.92151410e-01],\n",
              "       [2.29475880e-01, 7.70524120e-01],\n",
              "       [1.48956340e-01, 8.51043660e-01],\n",
              "       [1.73055524e-01, 8.26944476e-01],\n",
              "       [1.40579265e-01, 8.59420735e-01],\n",
              "       [2.91616619e-01, 7.08383381e-01],\n",
              "       [6.30863838e-02, 9.36913616e-01],\n",
              "       [2.37939082e-01, 7.62060918e-01],\n",
              "       [1.35165030e-01, 8.64834970e-01],\n",
              "       [1.03577004e-01, 8.96422996e-01],\n",
              "       [2.45582364e-01, 7.54417636e-01],\n",
              "       [2.20460536e-01, 7.79539464e-01],\n",
              "       [1.36225638e-01, 8.63774362e-01],\n",
              "       [2.51814970e-01, 7.48185030e-01],\n",
              "       [1.80497519e-01, 8.19502481e-01],\n",
              "       [1.83344881e-01, 8.16655119e-01],\n",
              "       [1.97427887e-01, 8.02572113e-01],\n",
              "       [6.18403376e-03, 9.93815966e-01],\n",
              "       [8.84081286e-02, 9.11591871e-01],\n",
              "       [7.17392033e-02, 9.28260797e-01],\n",
              "       [2.90835752e-01, 7.09164248e-01],\n",
              "       [3.03258620e-01, 6.96741380e-01],\n",
              "       [2.33797659e-01, 7.66202341e-01],\n",
              "       [1.36662136e-01, 8.63337864e-01],\n",
              "       [2.22146154e-01, 7.77853846e-01],\n",
              "       [1.35896085e-01, 8.64103915e-01],\n",
              "       [2.86575425e-01, 7.13424575e-01],\n",
              "       [2.57636094e-01, 7.42363906e-01],\n",
              "       [1.25960656e-01, 8.74039344e-01],\n",
              "       [1.28766714e-01, 8.71233286e-01],\n",
              "       [2.79443482e-01, 7.20556518e-01],\n",
              "       [3.04124729e-01, 6.95875271e-01],\n",
              "       [1.25562885e-01, 8.74437115e-01],\n",
              "       [2.12139953e-01, 7.87860047e-01],\n",
              "       [1.82909471e-01, 8.17090529e-01],\n",
              "       [1.63583317e-01, 8.36416683e-01],\n",
              "       [2.47971245e-01, 7.52028755e-01],\n",
              "       [1.06671601e-01, 8.93328399e-01],\n",
              "       [2.38334700e-01, 7.61665300e-01],\n",
              "       [2.15480881e-01, 7.84519119e-01],\n",
              "       [1.45978925e-01, 8.54021075e-01],\n",
              "       [1.60762920e-01, 8.39237080e-01],\n",
              "       [1.12360042e-01, 8.87639958e-01],\n",
              "       [3.32066791e-01, 6.67933209e-01],\n",
              "       [1.55584805e-01, 8.44415195e-01],\n",
              "       [4.87073255e-02, 9.51292674e-01],\n",
              "       [4.33851270e-02, 9.56614873e-01],\n",
              "       [2.31688017e-01, 7.68311983e-01],\n",
              "       [2.47059461e-02, 9.75294054e-01],\n",
              "       [2.07514204e-02, 9.79248580e-01],\n",
              "       [1.52711359e-01, 8.47288641e-01],\n",
              "       [3.51366100e-02, 9.64863390e-01],\n",
              "       [2.49140458e-01, 7.50859542e-01],\n",
              "       [1.31544440e-01, 8.68455560e-01],\n",
              "       [1.83321671e-01, 8.16678329e-01],\n",
              "       [1.76069264e-01, 8.23930736e-01],\n",
              "       [1.63722278e-01, 8.36277722e-01],\n",
              "       [1.38620216e-01, 8.61379784e-01],\n",
              "       [6.50626833e-02, 9.34937317e-01],\n",
              "       [9.64524964e-02, 9.03547504e-01],\n",
              "       [1.59071942e-01, 8.40928058e-01],\n",
              "       [1.83343921e-01, 8.16656079e-01],\n",
              "       [1.74913581e-01, 8.25086419e-01],\n",
              "       [3.83442185e-02, 9.61655781e-01],\n",
              "       [8.04163814e-02, 9.19583619e-01],\n",
              "       [3.45150444e-01, 6.54849556e-01],\n",
              "       [2.03721806e-01, 7.96278194e-01],\n",
              "       [5.50227852e-01, 4.49772148e-01],\n",
              "       [3.51960672e-01, 6.48039328e-01],\n",
              "       [2.09603426e-01, 7.90396574e-01],\n",
              "       [1.37411736e-01, 8.62588264e-01],\n",
              "       [1.55727399e-01, 8.44272601e-01],\n",
              "       [1.75013378e-01, 8.24986622e-01],\n",
              "       [1.95930754e-01, 8.04069246e-01],\n",
              "       [1.51457869e-01, 8.48542131e-01],\n",
              "       [1.15077400e-01, 8.84922600e-01],\n",
              "       [1.23767828e-01, 8.76232172e-01],\n",
              "       [1.07433123e-01, 8.92566877e-01],\n",
              "       [1.72896389e-01, 8.27103611e-01],\n",
              "       [1.85072527e-01, 8.14927473e-01],\n",
              "       [3.56315838e-01, 6.43684162e-01],\n",
              "       [1.88343115e-01, 8.11656885e-01],\n",
              "       [4.62554130e-01, 5.37445870e-01],\n",
              "       [9.14931447e-02, 9.08506855e-01],\n",
              "       [2.06198480e-01, 7.93801520e-01],\n",
              "       [1.96845668e-01, 8.03154332e-01],\n",
              "       [1.72101993e-01, 8.27898007e-01],\n",
              "       [1.82499764e-01, 8.17500236e-01],\n",
              "       [1.87435293e-01, 8.12564707e-01],\n",
              "       [2.18320844e-01, 7.81679156e-01],\n",
              "       [1.33221839e-01, 8.66778161e-01],\n",
              "       [2.44771945e-01, 7.55228055e-01],\n",
              "       [3.50687728e-01, 6.49312272e-01],\n",
              "       [2.29346474e-01, 7.70653526e-01],\n",
              "       [2.87658406e-01, 7.12341594e-01],\n",
              "       [9.41160784e-02, 9.05883922e-01],\n",
              "       [2.89741819e-01, 7.10258181e-01],\n",
              "       [1.66002112e-01, 8.33997888e-01],\n",
              "       [1.96936352e-01, 8.03063648e-01],\n",
              "       [2.24219685e-01, 7.75780315e-01],\n",
              "       [9.08512421e-02, 9.09148758e-01],\n",
              "       [2.42297575e-01, 7.57702425e-01],\n",
              "       [1.60245115e-01, 8.39754885e-01],\n",
              "       [6.34521304e-02, 9.36547870e-01],\n",
              "       [1.23691453e-01, 8.76308547e-01],\n",
              "       [3.73456079e-01, 6.26543921e-01],\n",
              "       [2.91161516e-01, 7.08838484e-01],\n",
              "       [1.87071510e-01, 8.12928490e-01],\n",
              "       [1.29788945e-01, 8.70211055e-01],\n",
              "       [1.42447391e-01, 8.57552609e-01],\n",
              "       [2.17097723e-01, 7.82902277e-01],\n",
              "       [2.69903961e-01, 7.30096039e-01],\n",
              "       [2.91623444e-01, 7.08376556e-01],\n",
              "       [9.11022195e-02, 9.08897781e-01],\n",
              "       [1.72696539e-01, 8.27303461e-01],\n",
              "       [2.06186671e-01, 7.93813329e-01],\n",
              "       [1.13796377e-01, 8.86203623e-01],\n",
              "       [1.70698343e-01, 8.29301657e-01],\n",
              "       [1.30027185e-01, 8.69972815e-01],\n",
              "       [3.41088766e-01, 6.58911234e-01],\n",
              "       [1.60319751e-01, 8.39680249e-01],\n",
              "       [1.86634662e-01, 8.13365338e-01],\n",
              "       [2.92264669e-01, 7.07735331e-01],\n",
              "       [1.83615861e-01, 8.16384139e-01],\n",
              "       [1.59136335e-01, 8.40863665e-01],\n",
              "       [3.50173750e-02, 9.64982625e-01],\n",
              "       [3.60222181e-01, 6.39777819e-01],\n",
              "       [1.68315848e-01, 8.31684152e-01],\n",
              "       [1.82721067e-01, 8.17278933e-01],\n",
              "       [2.21592204e-01, 7.78407796e-01],\n",
              "       [1.66974804e-01, 8.33025196e-01],\n",
              "       [2.28282447e-01, 7.71717553e-01],\n",
              "       [1.71166463e-01, 8.28833537e-01],\n",
              "       [1.03550140e-01, 8.96449860e-01],\n",
              "       [2.01961610e-01, 7.98038390e-01],\n",
              "       [6.48049507e-02, 9.35195049e-01],\n",
              "       [1.68041936e-01, 8.31958064e-01],\n",
              "       [6.53159310e-02, 9.34684069e-01],\n",
              "       [1.46287921e-01, 8.53712079e-01],\n",
              "       [1.77731811e-01, 8.22268189e-01],\n",
              "       [5.07935944e-01, 4.92064056e-01],\n",
              "       [3.45031350e-01, 6.54968650e-01],\n",
              "       [8.07674887e-02, 9.19232511e-01],\n",
              "       [1.20884622e-01, 8.79115378e-01],\n",
              "       [1.13330436e-01, 8.86669564e-01],\n",
              "       [1.52316777e-01, 8.47683223e-01],\n",
              "       [1.63315847e-01, 8.36684153e-01],\n",
              "       [2.64866172e-01, 7.35133828e-01],\n",
              "       [1.21770478e-01, 8.78229522e-01],\n",
              "       [2.50696791e-01, 7.49303209e-01],\n",
              "       [2.16896833e-01, 7.83103167e-01],\n",
              "       [2.55353606e-01, 7.44646394e-01],\n",
              "       [2.05692652e-01, 7.94307348e-01],\n",
              "       [5.54373279e-02, 9.44562672e-01],\n",
              "       [2.77751236e-01, 7.22248764e-01],\n",
              "       [2.51361231e-01, 7.48638769e-01],\n",
              "       [1.71554945e-01, 8.28445055e-01],\n",
              "       [1.68917927e-01, 8.31082073e-01],\n",
              "       [2.68652586e-01, 7.31347414e-01],\n",
              "       [3.37297696e-01, 6.62702304e-01],\n",
              "       [2.11006495e-01, 7.88993505e-01],\n",
              "       [1.22376293e-01, 8.77623707e-01],\n",
              "       [2.49530357e-01, 7.50469643e-01],\n",
              "       [9.07236208e-03, 9.90927638e-01],\n",
              "       [3.53700383e-02, 9.64629962e-01],\n",
              "       [2.37200398e-01, 7.62799602e-01],\n",
              "       [1.65702661e-01, 8.34297339e-01]])"
            ]
          },
          "metadata": {},
          "execution_count": 41
        }
      ]
    },
    {
      "cell_type": "markdown",
      "source": [
        "**DECISION TREE IMPLEMENTATION** *italicized text*"
      ],
      "metadata": {
        "id": "B098vQOBUElO"
      }
    },
    {
      "cell_type": "code",
      "source": [],
      "metadata": {
        "id": "8_ooa1cxaOdZ"
      },
      "execution_count": null,
      "outputs": []
    },
    {
      "cell_type": "code",
      "source": [
        "dtree=DecisionTreeClassifier()\n",
        "dtree.fit(x_train,y_train)\n",
        "preds_dtree_train=dtree.predict(x_train)\n",
        "preds_dtree_test=dtree.predict(x_test)"
      ],
      "metadata": {
        "id": "gFZoKGQKTF0a"
      },
      "execution_count": null,
      "outputs": []
    },
    {
      "cell_type": "markdown",
      "source": [
        "Log loss is to calculate the probability of error\n",
        "1*(Log(class1))+(1-1)*Log(1-class2))"
      ],
      "metadata": {
        "id": "PuqxA_R8Vm52"
      }
    },
    {
      "cell_type": "code",
      "source": [
        "acc_report(y_train,preds_dtree_train)"
      ],
      "metadata": {
        "id": "9o1NgJDaVl_E",
        "colab": {
          "base_uri": "https://localhost:8080/"
        },
        "outputId": "3724804b-afdf-4e7c-ea03-8953bf02e8e8"
      },
      "execution_count": null,
      "outputs": [
        {
          "output_type": "stream",
          "name": "stdout",
          "text": [
            "Accuracy 1.0\n",
            "[[ 52   0]\n",
            " [  0 241]]\n",
            "              precision    recall  f1-score   support\n",
            "\n",
            "         0.0       1.00      1.00      1.00        52\n",
            "         1.0       1.00      1.00      1.00       241\n",
            "\n",
            "    accuracy                           1.00       293\n",
            "   macro avg       1.00      1.00      1.00       293\n",
            "weighted avg       1.00      1.00      1.00       293\n",
            "\n"
          ]
        }
      ]
    },
    {
      "cell_type": "code",
      "source": [
        "acc_report(y_test,preds_dtree_test)"
      ],
      "metadata": {
        "id": "WBml9dfrafcm",
        "colab": {
          "base_uri": "https://localhost:8080/"
        },
        "outputId": "3b3cc338-0938-4fa1-fb62-834bc0b27ed9"
      },
      "execution_count": null,
      "outputs": [
        {
          "output_type": "stream",
          "name": "stdout",
          "text": [
            "Accuracy 0.81\n",
            "[[ 2  5]\n",
            " [ 9 58]]\n",
            "              precision    recall  f1-score   support\n",
            "\n",
            "         0.0       0.18      0.29      0.22         7\n",
            "         1.0       0.92      0.87      0.89        67\n",
            "\n",
            "    accuracy                           0.81        74\n",
            "   macro avg       0.55      0.58      0.56        74\n",
            "weighted avg       0.85      0.81      0.83        74\n",
            "\n"
          ]
        }
      ]
    },
    {
      "cell_type": "markdown",
      "source": [
        "Decrease the depth of the data using max depth"
      ],
      "metadata": {
        "id": "0bdW7VIIbYm-"
      }
    },
    {
      "cell_type": "code",
      "source": [
        "dtree=DecisionTreeClassifier(max_depth=3,min_samples_split=5)\n",
        "dtree.fit(x_train,y_train)\n",
        "preds_dtree_train=dtree.predict(x_train)\n",
        "preds_dtree_test=dtree.predict(x_test)"
      ],
      "metadata": {
        "id": "Psq_SRnObfX4"
      },
      "execution_count": null,
      "outputs": []
    },
    {
      "cell_type": "code",
      "source": [
        "acc_report(y_train,preds_dtree_train)"
      ],
      "metadata": {
        "id": "O99kjVAkb0Fh",
        "colab": {
          "base_uri": "https://localhost:8080/"
        },
        "outputId": "cb2df946-5987-40cd-ffe2-081e20ceea49"
      },
      "execution_count": null,
      "outputs": [
        {
          "output_type": "stream",
          "name": "stdout",
          "text": [
            "Accuracy 0.85\n",
            "[[ 10  42]\n",
            " [  1 240]]\n",
            "              precision    recall  f1-score   support\n",
            "\n",
            "         0.0       0.91      0.19      0.32        52\n",
            "         1.0       0.85      1.00      0.92       241\n",
            "\n",
            "    accuracy                           0.85       293\n",
            "   macro avg       0.88      0.59      0.62       293\n",
            "weighted avg       0.86      0.85      0.81       293\n",
            "\n"
          ]
        }
      ]
    },
    {
      "cell_type": "code",
      "source": [
        "acc_report(y_test,preds_dtree_test)"
      ],
      "metadata": {
        "id": "jfWG4Dtnb4Ii",
        "colab": {
          "base_uri": "https://localhost:8080/"
        },
        "outputId": "9b85837f-9a10-40c4-f40c-9fd0048c0e5d"
      },
      "execution_count": null,
      "outputs": [
        {
          "output_type": "stream",
          "name": "stdout",
          "text": [
            "Accuracy 0.91\n",
            "[[ 2  5]\n",
            " [ 2 65]]\n",
            "              precision    recall  f1-score   support\n",
            "\n",
            "         0.0       0.50      0.29      0.36         7\n",
            "         1.0       0.93      0.97      0.95        67\n",
            "\n",
            "    accuracy                           0.91        74\n",
            "   macro avg       0.71      0.63      0.66        74\n",
            "weighted avg       0.89      0.91      0.89        74\n",
            "\n"
          ]
        }
      ]
    },
    {
      "cell_type": "code",
      "source": [
        "from seaborn.palettes import desaturate\n",
        "from sklearn.tree import plot_tree\n",
        "import matplotlib.pyplot as plt\n",
        "\n",
        "plt.figure()\n",
        "clf=DecisionTreeClassifier(max_depth=3).fit(x_train,y_train)\n",
        "plot_tree(clf,filled=True)\n",
        "plt.title(\"Decision tree\")\n",
        "plt.show()"
      ],
      "metadata": {
        "id": "xK_JK7tCdjOv",
        "colab": {
          "base_uri": "https://localhost:8080/",
          "height": 264
        },
        "outputId": "23525584-1e20-4e87-a626-477cca2ab6cc"
      },
      "execution_count": null,
      "outputs": [
        {
          "output_type": "display_data",
          "data": {
            "text/plain": [
              "<Figure size 432x288 with 1 Axes>"
            ],
            "image/png": "[encoded data removed]"
          },
          "metadata": {
            "needs_background": "light"
          }
        }
      ]
    },
    {
      "cell_type": "markdown",
      "source": [
        "**SUPERVISED LEARNING-Random forest**"
      ],
      "metadata": {
        "id": "7wEJBXGnjQBB"
      }
    },
    {
      "cell_type": "code",
      "source": [
        "from sklearn.ensemble import RandomForestClassifier\n",
        "rf=RandomForestClassifier(verbose=1)\n",
        "rf.fit(x_train,y_train)"
      ],
      "metadata": {
        "id": "6jQ77sgLjaLj",
        "colab": {
          "base_uri": "https://localhost:8080/",
          "height": 109
        },
        "outputId": "e8c190d3-0822-4cd0-ea1e-9e7232a6c2a4"
      },
      "execution_count": null,
      "outputs": [
        {
          "output_type": "stream",
          "name": "stderr",
          "text": [
            "[Parallel(n_jobs=1)]: Using backend SequentialBackend with 1 concurrent workers.\n",
            "[Parallel(n_jobs=1)]: Done 100 out of 100 | elapsed:    0.2s finished\n"
          ]
        },
        {
          "output_type": "execute_result",
          "data": {
            "text/plain": [
              "RandomForestClassifier(verbose=1)"
            ],
            "text/html": [
              "<style>#sk-container-id-1 {color: black;background-color: white;}#sk-container-id-1 pre{padding: 0;}#sk-container-id-1 div.sk-toggleable {background-color: white;}#sk-container-id-1 label.sk-toggleable__label {cursor: pointer;display: block;width: 100%;margin-bottom: 0;padding: 0.3em;box-sizing: border-box;text-align: center;}#sk-container-id-1 label.sk-toggleable__label-arrow:before {content: \"▸\";float: left;margin-right: 0.25em;color: #696969;}#sk-container-id-1 label.sk-toggleable__label-arrow:hover:before {color: black;}#sk-container-id-1 div.sk-estimator:hover label.sk-toggleable__label-arrow:before {color: black;}#sk-container-id-1 div.sk-toggleable__content {max-height: 0;max-width: 0;overflow: hidden;text-align: left;background-color: #f0f8ff;}#sk-container-id-1 div.sk-toggleable__content pre {margin: 0.2em;color: black;border-radius: 0.25em;background-color: #f0f8ff;}#sk-container-id-1 input.sk-toggleable__control:checked~div.sk-toggleable__content {max-height: 200px;max-width: 100%;overflow: auto;}#sk-container-id-1 input.sk-toggleable__control:checked~label.sk-toggleable__label-arrow:before {content: \"▾\";}#sk-container-id-1 div.sk-estimator input.sk-toggleable__control:checked~label.sk-toggleable__label {background-color: #d4ebff;}#sk-container-id-1 div.sk-label input.sk-toggleable__control:checked~label.sk-toggleable__label {background-color: #d4ebff;}#sk-container-id-1 input.sk-hidden--visually {border: 0;clip: rect(1px 1px 1px 1px);clip: rect(1px, 1px, 1px, 1px);height: 1px;margin: -1px;overflow: hidden;padding: 0;position: absolute;width: 1px;}#sk-container-id-1 div.sk-estimator {font-family: monospace;background-color: #f0f8ff;border: 1px dotted black;border-radius: 0.25em;box-sizing: border-box;margin-bottom: 0.5em;}#sk-container-id-1 div.sk-estimator:hover {background-color: #d4ebff;}#sk-container-id-1 div.sk-parallel-item::after {content: \"\";width: 100%;border-bottom: 1px solid gray;flex-grow: 1;}#sk-container-id-1 div.sk-label:hover label.sk-toggleable__label {background-color: #d4ebff;}#sk-container-id-1 div.sk-serial::before {content: \"\";position: absolute;border-left: 1px solid gray;box-sizing: border-box;top: 0;bottom: 0;left: 50%;z-index: 0;}#sk-container-id-1 div.sk-serial {display: flex;flex-direction: column;align-items: center;background-color: white;padding-right: 0.2em;padding-left: 0.2em;position: relative;}#sk-container-id-1 div.sk-item {position: relative;z-index: 1;}#sk-container-id-1 div.sk-parallel {display: flex;align-items: stretch;justify-content: center;background-color: white;position: relative;}#sk-container-id-1 div.sk-item::before, #sk-container-id-1 div.sk-parallel-item::before {content: \"\";position: absolute;border-left: 1px solid gray;box-sizing: border-box;top: 0;bottom: 0;left: 50%;z-index: -1;}#sk-container-id-1 div.sk-parallel-item {display: flex;flex-direction: column;z-index: 1;position: relative;background-color: white;}#sk-container-id-1 div.sk-parallel-item:first-child::after {align-self: flex-end;width: 50%;}#sk-container-id-1 div.sk-parallel-item:last-child::after {align-self: flex-start;width: 50%;}#sk-container-id-1 div.sk-parallel-item:only-child::after {width: 0;}#sk-container-id-1 div.sk-dashed-wrapped {border: 1px dashed gray;margin: 0 0.4em 0.5em 0.4em;box-sizing: border-box;padding-bottom: 0.4em;background-color: white;}#sk-container-id-1 div.sk-label label {font-family: monospace;font-weight: bold;display: inline-block;line-height: 1.2em;}#sk-container-id-1 div.sk-label-container {text-align: center;}#sk-container-id-1 div.sk-container {/* jupyter's `normalize.less` sets `[hidden] { display: none; }` but bootstrap.min.css set `[hidden] { display: none !important; }` so we also need the `!important` here to be able to override the default hidden behavior on the sphinx rendered scikit-learn.org. See: https://github.com/scikit-learn/scikit-learn/issues/21755 */display: inline-block !important;position: relative;}#sk-container-id-1 div.sk-text-repr-fallback {display: none;}</style><div id=\"sk-container-id-1\" class=\"sk-top-container\"><div class=\"sk-text-repr-fallback\"><pre>RandomForestClassifier(verbose=1)</pre><b>In a Jupyter environment, please rerun this cell to show the HTML representation or trust the notebook. <br />On GitHub, the HTML representation is unable to render, please try loading this page with nbviewer.org.</b></div><div class=\"sk-container\" hidden><div class=\"sk-item\"><div class=\"sk-estimator sk-toggleable\"><input class=\"sk-toggleable__control sk-hidden--visually\" id=\"sk-estimator-id-1\" type=\"checkbox\" checked><label for=\"sk-estimator-id-1\" class=\"sk-toggleable__label sk-toggleable__label-arrow\">RandomForestClassifier</label><div class=\"sk-toggleable__content\"><pre>RandomForestClassifier(verbose=1)</pre></div></div></div></div></div>"
            ]
          },
          "metadata": {},
          "execution_count": 49
        }
      ]
    },
    {
      "cell_type": "code",
      "source": [
        "preds_rf_train=rf.predict(x_train)\n",
        "preds_rf_test=rf.predict(x_test)"
      ],
      "metadata": {
        "id": "asMebesA0DxQ",
        "colab": {
          "base_uri": "https://localhost:8080/"
        },
        "outputId": "1fbaa740-4530-440a-f61b-50ef7121347c"
      },
      "execution_count": null,
      "outputs": [
        {
          "output_type": "stream",
          "name": "stderr",
          "text": [
            "[Parallel(n_jobs=1)]: Using backend SequentialBackend with 1 concurrent workers.\n",
            "[Parallel(n_jobs=1)]: Done 100 out of 100 | elapsed:    0.0s finished\n",
            "[Parallel(n_jobs=1)]: Using backend SequentialBackend with 1 concurrent workers.\n",
            "[Parallel(n_jobs=1)]: Done 100 out of 100 | elapsed:    0.0s finished\n"
          ]
        }
      ]
    },
    {
      "cell_type": "code",
      "source": [
        "acc_report(y_train,preds_rf_train)                         #low bias"
      ],
      "metadata": {
        "id": "7fmkSCdr0ZC7",
        "colab": {
          "base_uri": "https://localhost:8080/"
        },
        "outputId": "69c34bf3-9452-448c-a6ee-1ac69c7996c7"
      },
      "execution_count": null,
      "outputs": [
        {
          "output_type": "stream",
          "name": "stdout",
          "text": [
            "Accuracy 1.0\n",
            "[[ 52   0]\n",
            " [  0 241]]\n",
            "              precision    recall  f1-score   support\n",
            "\n",
            "         0.0       1.00      1.00      1.00        52\n",
            "         1.0       1.00      1.00      1.00       241\n",
            "\n",
            "    accuracy                           1.00       293\n",
            "   macro avg       1.00      1.00      1.00       293\n",
            "weighted avg       1.00      1.00      1.00       293\n",
            "\n"
          ]
        }
      ]
    },
    {
      "cell_type": "code",
      "source": [
        "acc_report(y_test,preds_rf_test)                              #high variance"
      ],
      "metadata": {
        "id": "JQOt0Ze90lEE",
        "colab": {
          "base_uri": "https://localhost:8080/"
        },
        "outputId": "91e0ef95-1193-4a1c-c828-ebd1192fd94e"
      },
      "execution_count": null,
      "outputs": [
        {
          "output_type": "stream",
          "name": "stdout",
          "text": [
            "Accuracy 0.92\n",
            "[[ 1  6]\n",
            " [ 0 67]]\n",
            "              precision    recall  f1-score   support\n",
            "\n",
            "         0.0       1.00      0.14      0.25         7\n",
            "         1.0       0.92      1.00      0.96        67\n",
            "\n",
            "    accuracy                           0.92        74\n",
            "   macro avg       0.96      0.57      0.60        74\n",
            "weighted avg       0.93      0.92      0.89        74\n",
            "\n"
          ]
        }
      ]
    },
    {
      "cell_type": "code",
      "source": [
        "#hyper tuning as it overfit\n",
        "from sklearn.ensemble import RandomForestClassifier\n",
        "rf=RandomForestClassifier(verbose=1,max_depth=3,n_estimators=21)\n",
        "rf.fit(x_train,y_train)"
      ],
      "metadata": {
        "id": "Gn1P5zmg1VfF",
        "colab": {
          "base_uri": "https://localhost:8080/",
          "height": 109
        },
        "outputId": "056e210c-1060-4daa-9518-ec6e71efec36"
      },
      "execution_count": null,
      "outputs": [
        {
          "output_type": "stream",
          "name": "stderr",
          "text": [
            "[Parallel(n_jobs=1)]: Using backend SequentialBackend with 1 concurrent workers.\n",
            "[Parallel(n_jobs=1)]: Done  21 out of  21 | elapsed:    0.0s finished\n"
          ]
        },
        {
          "output_type": "execute_result",
          "data": {
            "text/plain": [
              "RandomForestClassifier(max_depth=3, n_estimators=21, verbose=1)"
            ],
            "text/html": [
              "<style>#sk-container-id-2 {color: black;background-color: white;}#sk-container-id-2 pre{padding: 0;}#sk-container-id-2 div.sk-toggleable {background-color: white;}#sk-container-id-2 label.sk-toggleable__label {cursor: pointer;display: block;width: 100%;margin-bottom: 0;padding: 0.3em;box-sizing: border-box;text-align: center;}#sk-container-id-2 label.sk-toggleable__label-arrow:before {content: \"▸\";float: left;margin-right: 0.25em;color: #696969;}#sk-container-id-2 label.sk-toggleable__label-arrow:hover:before {color: black;}#sk-container-id-2 div.sk-estimator:hover label.sk-toggleable__label-arrow:before {color: black;}#sk-container-id-2 div.sk-toggleable__content {max-height: 0;max-width: 0;overflow: hidden;text-align: left;background-color: #f0f8ff;}#sk-container-id-2 div.sk-toggleable__content pre {margin: 0.2em;color: black;border-radius: 0.25em;background-color: #f0f8ff;}#sk-container-id-2 input.sk-toggleable__control:checked~div.sk-toggleable__content {max-height: 200px;max-width: 100%;overflow: auto;}#sk-container-id-2 input.sk-toggleable__control:checked~label.sk-toggleable__label-arrow:before {content: \"▾\";}#sk-container-id-2 div.sk-estimator input.sk-toggleable__control:checked~label.sk-toggleable__label {background-color: #d4ebff;}#sk-container-id-2 div.sk-label input.sk-toggleable__control:checked~label.sk-toggleable__label {background-color: #d4ebff;}#sk-container-id-2 input.sk-hidden--visually {border: 0;clip: rect(1px 1px 1px 1px);clip: rect(1px, 1px, 1px, 1px);height: 1px;margin: -1px;overflow: hidden;padding: 0;position: absolute;width: 1px;}#sk-container-id-2 div.sk-estimator {font-family: monospace;background-color: #f0f8ff;border: 1px dotted black;border-radius: 0.25em;box-sizing: border-box;margin-bottom: 0.5em;}#sk-container-id-2 div.sk-estimator:hover {background-color: #d4ebff;}#sk-container-id-2 div.sk-parallel-item::after {content: \"\";width: 100%;border-bottom: 1px solid gray;flex-grow: 1;}#sk-container-id-2 div.sk-label:hover label.sk-toggleable__label {background-color: #d4ebff;}#sk-container-id-2 div.sk-serial::before {content: \"\";position: absolute;border-left: 1px solid gray;box-sizing: border-box;top: 0;bottom: 0;left: 50%;z-index: 0;}#sk-container-id-2 div.sk-serial {display: flex;flex-direction: column;align-items: center;background-color: white;padding-right: 0.2em;padding-left: 0.2em;position: relative;}#sk-container-id-2 div.sk-item {position: relative;z-index: 1;}#sk-container-id-2 div.sk-parallel {display: flex;align-items: stretch;justify-content: center;background-color: white;position: relative;}#sk-container-id-2 div.sk-item::before, #sk-container-id-2 div.sk-parallel-item::before {content: \"\";position: absolute;border-left: 1px solid gray;box-sizing: border-box;top: 0;bottom: 0;left: 50%;z-index: -1;}#sk-container-id-2 div.sk-parallel-item {display: flex;flex-direction: column;z-index: 1;position: relative;background-color: white;}#sk-container-id-2 div.sk-parallel-item:first-child::after {align-self: flex-end;width: 50%;}#sk-container-id-2 div.sk-parallel-item:last-child::after {align-self: flex-start;width: 50%;}#sk-container-id-2 div.sk-parallel-item:only-child::after {width: 0;}#sk-container-id-2 div.sk-dashed-wrapped {border: 1px dashed gray;margin: 0 0.4em 0.5em 0.4em;box-sizing: border-box;padding-bottom: 0.4em;background-color: white;}#sk-container-id-2 div.sk-label label {font-family: monospace;font-weight: bold;display: inline-block;line-height: 1.2em;}#sk-container-id-2 div.sk-label-container {text-align: center;}#sk-container-id-2 div.sk-container {/* jupyter's `normalize.less` sets `[hidden] { display: none; }` but bootstrap.min.css set `[hidden] { display: none !important; }` so we also need the `!important` here to be able to override the default hidden behavior on the sphinx rendered scikit-learn.org. See: https://github.com/scikit-learn/scikit-learn/issues/21755 */display: inline-block !important;position: relative;}#sk-container-id-2 div.sk-text-repr-fallback {display: none;}</style><div id=\"sk-container-id-2\" class=\"sk-top-container\"><div class=\"sk-text-repr-fallback\"><pre>RandomForestClassifier(max_depth=3, n_estimators=21, verbose=1)</pre><b>In a Jupyter environment, please rerun this cell to show the HTML representation or trust the notebook. <br />On GitHub, the HTML representation is unable to render, please try loading this page with nbviewer.org.</b></div><div class=\"sk-container\" hidden><div class=\"sk-item\"><div class=\"sk-estimator sk-toggleable\"><input class=\"sk-toggleable__control sk-hidden--visually\" id=\"sk-estimator-id-2\" type=\"checkbox\" checked><label for=\"sk-estimator-id-2\" class=\"sk-toggleable__label sk-toggleable__label-arrow\">RandomForestClassifier</label><div class=\"sk-toggleable__content\"><pre>RandomForestClassifier(max_depth=3, n_estimators=21, verbose=1)</pre></div></div></div></div></div>"
            ]
          },
          "metadata": {},
          "execution_count": 53
        }
      ]
    },
    {
      "cell_type": "code",
      "source": [
        "preds_rf_train=rf.predict(x_train)\n",
        "preds_rf_test=rf.predict(x_test)"
      ],
      "metadata": {
        "id": "jXry7wry2Y9l",
        "colab": {
          "base_uri": "https://localhost:8080/"
        },
        "outputId": "ff3b8f17-6a28-4851-c9c7-2caf1a92ccc9"
      },
      "execution_count": null,
      "outputs": [
        {
          "output_type": "stream",
          "name": "stderr",
          "text": [
            "[Parallel(n_jobs=1)]: Using backend SequentialBackend with 1 concurrent workers.\n",
            "[Parallel(n_jobs=1)]: Done  21 out of  21 | elapsed:    0.0s finished\n",
            "[Parallel(n_jobs=1)]: Using backend SequentialBackend with 1 concurrent workers.\n",
            "[Parallel(n_jobs=1)]: Done  21 out of  21 | elapsed:    0.0s finished\n"
          ]
        }
      ]
    },
    {
      "cell_type": "code",
      "source": [
        "acc_report(y_test,preds_rf_test)    "
      ],
      "metadata": {
        "id": "bgLyP7NueG6K"
      },
      "execution_count": null,
      "outputs": []
    },
    {
      "cell_type": "code",
      "source": [
        "acc_report(y_train,preds_rf_train)  "
      ],
      "metadata": {
        "id": "Hy-mO4GL2cNL",
        "colab": {
          "base_uri": "https://localhost:8080/"
        },
        "outputId": "9506d265-b484-4d8f-c00a-1447d7ac9d20"
      },
      "execution_count": null,
      "outputs": [
        {
          "output_type": "stream",
          "name": "stdout",
          "text": [
            "Accuracy 0.83\n",
            "[[  2  50]\n",
            " [  0 241]]\n",
            "              precision    recall  f1-score   support\n",
            "\n",
            "         0.0       1.00      0.04      0.07        52\n",
            "         1.0       0.83      1.00      0.91       241\n",
            "\n",
            "    accuracy                           0.83       293\n",
            "   macro avg       0.91      0.52      0.49       293\n",
            "weighted avg       0.86      0.83      0.76       293\n",
            "\n"
          ]
        }
      ]
    }
  ]
}